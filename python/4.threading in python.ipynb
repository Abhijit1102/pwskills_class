{
 "cells": [
  {
   "cell_type": "markdown",
   "id": "8da3f6cc",
   "metadata": {},
   "source": [
    "**Suppose**: processor having four core $(p_1, p_2, p_3, p_4)$ how to used it by threading."
   ]
  },
  {
   "cell_type": "code",
   "execution_count": 1,
   "id": "ec5c6215",
   "metadata": {},
   "outputs": [],
   "source": [
    "import threading"
   ]
  },
  {
   "cell_type": "code",
   "execution_count": 4,
   "id": "ddfc5b50",
   "metadata": {},
   "outputs": [],
   "source": [
    "def test(id):\n",
    "    print(\"this is my test id %d\" % id)"
   ]
  },
  {
   "cell_type": "code",
   "execution_count": 5,
   "id": "47b7ec91",
   "metadata": {},
   "outputs": [
    {
     "name": "stdout",
     "output_type": "stream",
     "text": [
      "this is my test id 10\n"
     ]
    }
   ],
   "source": [
    "test(10)"
   ]
  },
  {
   "cell_type": "code",
   "execution_count": 8,
   "id": "cc6d46e5",
   "metadata": {},
   "outputs": [
    {
     "name": "stdout",
     "output_type": "stream",
     "text": [
      "this is my test id 1\n",
      "this is my test id 2\n",
      "this is my test id 3\n"
     ]
    },
    {
     "data": {
      "text/plain": [
       "(None, None, None)"
      ]
     },
     "execution_count": 8,
     "metadata": {},
     "output_type": "execute_result"
    }
   ],
   "source": [
    "test(1), test(2), test(3)"
   ]
  },
  {
   "cell_type": "code",
   "execution_count": 16,
   "id": "1e02042c",
   "metadata": {},
   "outputs": [],
   "source": [
    "thread = {threading.Thread(target=test, args =(i,)) for i in[10, 1, 3]}"
   ]
  },
  {
   "cell_type": "code",
   "execution_count": 17,
   "id": "1de3fe0c",
   "metadata": {},
   "outputs": [
    {
     "data": {
      "text/plain": [
       "{<Thread(Thread-10 (test), initial)>,\n",
       " <Thread(Thread-8 (test), initial)>,\n",
       " <Thread(Thread-9 (test), initial)>}"
      ]
     },
     "execution_count": 17,
     "metadata": {},
     "output_type": "execute_result"
    }
   ],
   "source": [
    "thread"
   ]
  },
  {
   "cell_type": "code",
   "execution_count": 18,
   "id": "204fd4e9",
   "metadata": {},
   "outputs": [
    {
     "name": "stdout",
     "output_type": "stream",
     "text": [
      "this is my test id 3\n",
      "this is my test id 10\n",
      "this is my test id 1\n"
     ]
    }
   ],
   "source": [
    "for t in thread:\n",
    "    t.start()"
   ]
  },
  {
   "cell_type": "code",
   "execution_count": 19,
   "id": "40435cfc",
   "metadata": {},
   "outputs": [],
   "source": [
    "import urllib.request\n",
    "\n",
    "def file_download(url, finename):\n",
    "    urllib.request.urlretrieve(url, filename)"
   ]
  },
  {
   "cell_type": "code",
   "execution_count": 22,
   "id": "56c3790e",
   "metadata": {},
   "outputs": [
    {
     "data": {
      "text/plain": [
       "['url1', 'url2', 'url3']"
      ]
     },
     "execution_count": 22,
     "metadata": {},
     "output_type": "execute_result"
    }
   ],
   "source": [
    "url_list = [\"url1\", \"url2\", \"url3\"]\n",
    "url_list"
   ]
  },
  {
   "cell_type": "code",
   "execution_count": 23,
   "id": "73634d62",
   "metadata": {},
   "outputs": [
    {
     "data": {
      "text/plain": [
       "['data1.txt', 'data2.txt', 'data3.txt']"
      ]
     },
     "execution_count": 23,
     "metadata": {},
     "output_type": "execute_result"
    }
   ],
   "source": [
    "data_file_list = [\"data1.txt\", \"data2.txt\", \"data3.txt\"]\n",
    "data_file_list"
   ]
  },
  {
   "cell_type": "code",
   "execution_count": 25,
   "id": "26a48039",
   "metadata": {},
   "outputs": [],
   "source": [
    "thread1 = [threading.Thread(target=file_download, args=(url_list[i], data_file_list[i])) for i in range(len(url_list)) ]"
   ]
  },
  {
   "cell_type": "code",
   "execution_count": null,
   "id": "2893afd8",
   "metadata": {},
   "outputs": [],
   "source": [
    "for t in thread1:\n",
    "    t.start()"
   ]
  },
  {
   "cell_type": "code",
   "execution_count": 27,
   "id": "f56c894b",
   "metadata": {},
   "outputs": [
    {
     "data": {
      "text/plain": [
       "[<Thread(Thread-11 (file_download), initial)>,\n",
       " <Thread(Thread-12 (file_download), initial)>,\n",
       " <Thread(Thread-13 (file_download), initial)>]"
      ]
     },
     "execution_count": 27,
     "metadata": {},
     "output_type": "execute_result"
    }
   ],
   "source": [
    "thread1"
   ]
  },
  {
   "cell_type": "code",
   "execution_count": 28,
   "id": "ac3717e2",
   "metadata": {},
   "outputs": [],
   "source": [
    "import time"
   ]
  },
  {
   "cell_type": "code",
   "execution_count": 37,
   "id": "4f94446e",
   "metadata": {},
   "outputs": [],
   "source": [
    "def test2(x):\n",
    "    for i in range(10):\n",
    "        print(\"test1 printthe value of x %d and print the value of i %d\" %(x,i))\n",
    "        #time.sleep(1)"
   ]
  },
  {
   "cell_type": "code",
   "execution_count": 38,
   "id": "5c0f6ec7",
   "metadata": {},
   "outputs": [],
   "source": [
    "thread2 = [threading.Thread(target=test2, args=(i,)) for i in [100, 10, 20, 5]]"
   ]
  },
  {
   "cell_type": "code",
   "execution_count": 36,
   "id": "51fd7998",
   "metadata": {},
   "outputs": [
    {
     "name": "stdout",
     "output_type": "stream",
     "text": [
      "test1 printthe value of x 100 and print the value of i 0\n",
      "test1 printthe value of x 10 and print the value of i 0\n",
      "test1 printthe value of x 20 and print the value of i 0\n",
      "test1 printthe value of x 5 and print the value of i 0\n",
      "test1 printthe value of x 100 and print the value of i 1test1 printthe value of x 10 and print the value of i 1\n",
      "\n",
      "test1 printthe value of x 5 and print the value of i 1\n",
      "test1 printthe value of x 20 and print the value of i 1\n",
      "test1 printthe value of x 100 and print the value of i 2test1 printthe value of x 10 and print the value of i 2\n",
      "\n",
      "test1 printthe value of x 20 and print the value of i 2\n",
      "test1 printthe value of x 5 and print the value of i 2\n",
      "test1 printthe value of x 100 and print the value of i 3test1 printthe value of x 10 and print the value of i 3\n",
      "\n",
      "test1 printthe value of x 20 and print the value of i 3\n",
      "test1 printthe value of x 5 and print the value of i 3\n",
      "test1 printthe value of x 10 and print the value of i 4test1 printthe value of x 100 and print the value of i 4\n",
      "\n",
      "test1 printthe value of x 20 and print the value of i 4\n",
      "test1 printthe value of x 5 and print the value of i 4\n",
      "test1 printthe value of x 100 and print the value of i 5test1 printthe value of x 10 and print the value of i 5\n",
      "\n",
      "test1 printthe value of x 20 and print the value of i 5\n",
      "test1 printthe value of x 5 and print the value of i 5\n",
      "test1 printthe value of x 100 and print the value of i 6test1 printthe value of x 10 and print the value of i 6\n",
      "\n",
      "test1 printthe value of x 5 and print the value of i 6\n",
      "test1 printthe value of x 20 and print the value of i 6\n",
      "test1 printthe value of x 100 and print the value of i 7test1 printthe value of x 10 and print the value of i 7\n",
      "\n",
      "test1 printthe value of x 5 and print the value of i 7\n",
      "test1 printthe value of x 20 and print the value of i 7\n",
      "test1 printthe value of x 100 and print the value of i 8test1 printthe value of x 10 and print the value of i 8\n",
      "\n",
      "test1 printthe value of x 5 and print the value of i 8\n",
      "test1 printthe value of x 20 and print the value of i 8\n",
      "test1 printthe value of x 100 and print the value of i 9test1 printthe value of x 10 and print the value of i 9\n",
      "\n",
      "test1 printthe value of x 5 and print the value of i 9\n",
      "test1 printthe value of x 20 and print the value of i 9\n"
     ]
    }
   ],
   "source": [
    "for t in thread2: #with sleep \n",
    "    t.start()"
   ]
  },
  {
   "cell_type": "code",
   "execution_count": 39,
   "id": "d657dc17",
   "metadata": {},
   "outputs": [
    {
     "name": "stdout",
     "output_type": "stream",
     "text": [
      "test1 printthe value of x 100 and print the value of i 0\n",
      "test1 printthe value of x 100 and print the value of i 1\n",
      "test1 printthe value of x 100 and print the value of i 2\n",
      "test1 printthe value of x 100 and print the value of i 3\n",
      "test1 printthe value of x 100 and print the value of i 4\n",
      "test1 printthe value of x 100 and print the value of i 5\n",
      "test1 printthe value of x 100 and print the value of i 6\n",
      "test1 printthe value of x 100 and print the value of i 7\n",
      "test1 printthe value of x 100 and print the value of i 8\n",
      "test1 printthe value of x 100 and print the value of i 9\n",
      "test1 printthe value of x 10 and print the value of i 0\n",
      "test1 printthe value of x 10 and print the value of i 1\n",
      "test1 printthe value of x 10 and print the value of i 2\n",
      "test1 printthe value of x 10 and print the value of i 3\n",
      "test1 printthe value of x 10 and print the value of i 4\n",
      "test1 printthe value of x 10 and print the value of i 5\n",
      "test1 printthe value of x 10 and print the value of i 6\n",
      "test1 printthe value of x 10 and print the value of i 7\n",
      "test1 printthe value of x 10 and print the value of i 8\n",
      "test1 printthe value of x 10 and print the value of i 9\n",
      "test1 printthe value of x 20 and print the value of i 0\n",
      "test1 printthe value of x 20 and print the value of i 1\n",
      "test1 printthe value of x 20 and print the value of i 2\n",
      "test1 printthe value of x 20 and print the value of i 3\n",
      "test1 printthe value of x 20 and print the value of i 4\n",
      "test1 printthe value of x 20 and print the value of i 5\n",
      "test1 printthe value of x 20 and print the value of i 6\n",
      "test1 printthe value of x 20 and print the value of i 7\n",
      "test1 printthe value of x 20 and print the value of i 8\n",
      "test1 printthe value of x 20 and print the value of i 9\n",
      "test1 printthe value of x 5 and print the value of i 0\n",
      "test1 printthe value of x 5 and print the value of i 1\n",
      "test1 printthe value of x 5 and print the value of i 2\n",
      "test1 printthe value of x 5 and print the value of i 3\n",
      "test1 printthe value of x 5 and print the value of i 4\n",
      "test1 printthe value of x 5 and print the value of i 5\n",
      "test1 printthe value of x 5 and print the value of i 6\n",
      "test1 printthe value of x 5 and print the value of i 7\n",
      "test1 printthe value of x 5 and print the value of i 8\n",
      "test1 printthe value of x 5 and print the value of i 9\n"
     ]
    }
   ],
   "source": [
    "for t in thread2: #without sleep \n",
    "    t.start()"
   ]
  },
  {
   "cell_type": "code",
   "execution_count": 47,
   "id": "184b7e70",
   "metadata": {},
   "outputs": [
    {
     "name": "stdout",
     "output_type": "stream",
     "text": [
      "value of x 1 and value of shared_var 1\n",
      "value of x 2 and value of shared_var 2\n",
      "value of x 3 and value of shared_var 3\n",
      "value of x 4 and value of shared_var 4\n",
      "value of x 4 and value of shared_var 5\n",
      "value of x 5 and value of shared_var 6\n"
     ]
    }
   ],
   "source": [
    "shared_var = 0\n",
    "local_var = threading.Lock()\n",
    "def test4(x):\n",
    "    global shared_var\n",
    "    with local_var:\n",
    "        shared_var = shared_var + 1\n",
    "        print('value of x %d and value of shared_var %d' %(x, shared_var))\n",
    "        time.sleep(1)\n",
    "\n",
    "threads = [threading.Thread(target=test4, args=(i,)) for i in [1,2,3,4,4,5]]\n",
    "for t in threads:\n",
    "    t.start()"
   ]
  },
  {
   "cell_type": "code",
   "execution_count": 44,
   "id": "0de556ad",
   "metadata": {},
   "outputs": [
    {
     "name": "stdout",
     "output_type": "stream",
     "text": [
      "value od x 1 and value of shared_var 1\n"
     ]
    }
   ],
   "source": [
    "test3(1)"
   ]
  }
 ],
 "metadata": {
  "kernelspec": {
   "display_name": "Python 3 (ipykernel)",
   "language": "python",
   "name": "python3"
  },
  "language_info": {
   "codemirror_mode": {
    "name": "ipython",
    "version": 3
   },
   "file_extension": ".py",
   "mimetype": "text/x-python",
   "name": "python",
   "nbconvert_exporter": "python",
   "pygments_lexer": "ipython3",
   "version": "3.10.9"
  }
 },
 "nbformat": 4,
 "nbformat_minor": 5
}
