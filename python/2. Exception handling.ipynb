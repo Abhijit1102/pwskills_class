{
 "cells": [
  {
   "cell_type": "code",
   "execution_count": 1,
   "id": "af061edc",
   "metadata": {},
   "outputs": [
    {
     "ename": "ZeroDivisionError",
     "evalue": "division by zero",
     "output_type": "error",
     "traceback": [
      "\u001b[1;31m---------------------------------------------------------------------------\u001b[0m",
      "\u001b[1;31mZeroDivisionError\u001b[0m                         Traceback (most recent call last)",
      "Cell \u001b[1;32mIn[1], line 2\u001b[0m\n\u001b[0;32m      1\u001b[0m a \u001b[38;5;241m=\u001b[39m \u001b[38;5;241m10\u001b[39m\n\u001b[1;32m----> 2\u001b[0m \u001b[43ma\u001b[49m\u001b[38;5;241;43m/\u001b[39;49m\u001b[38;5;241;43m0\u001b[39;49m\n",
      "\u001b[1;31mZeroDivisionError\u001b[0m: division by zero"
     ]
    }
   ],
   "source": [
    "a = 10\n",
    "a/0"
   ]
  },
  {
   "cell_type": "code",
   "execution_count": 2,
   "id": "bca13174",
   "metadata": {
    "scrolled": true
   },
   "outputs": [
    {
     "ename": "FileNotFoundError",
     "evalue": "[Errno 2] No such file or directory: 'test.txt'",
     "output_type": "error",
     "traceback": [
      "\u001b[1;31m---------------------------------------------------------------------------\u001b[0m",
      "\u001b[1;31mFileNotFoundError\u001b[0m                         Traceback (most recent call last)",
      "Cell \u001b[1;32mIn[2], line 1\u001b[0m\n\u001b[1;32m----> 1\u001b[0m f \u001b[38;5;241m=\u001b[39m \u001b[38;5;28;43mopen\u001b[39;49m\u001b[43m(\u001b[49m\u001b[38;5;124;43m\"\u001b[39;49m\u001b[38;5;124;43mtest.txt\u001b[39;49m\u001b[38;5;124;43m\"\u001b[39;49m\u001b[43m,\u001b[49m\u001b[43m \u001b[49m\u001b[38;5;124;43m\"\u001b[39;49m\u001b[38;5;124;43mr\u001b[39;49m\u001b[38;5;124;43m\"\u001b[39;49m\u001b[43m)\u001b[49m\n\u001b[0;32m      2\u001b[0m \u001b[38;5;28mprint\u001b[39m(\u001b[38;5;124m\"\u001b[39m\u001b[38;5;124mThis is my print\u001b[39m\u001b[38;5;124m\"\u001b[39m)\n",
      "File \u001b[1;32m~\\AppData\\Roaming\\Python\\Python310\\site-packages\\IPython\\core\\interactiveshell.py:282\u001b[0m, in \u001b[0;36m_modified_open\u001b[1;34m(file, *args, **kwargs)\u001b[0m\n\u001b[0;32m    275\u001b[0m \u001b[38;5;28;01mif\u001b[39;00m file \u001b[38;5;129;01min\u001b[39;00m {\u001b[38;5;241m0\u001b[39m, \u001b[38;5;241m1\u001b[39m, \u001b[38;5;241m2\u001b[39m}:\n\u001b[0;32m    276\u001b[0m     \u001b[38;5;28;01mraise\u001b[39;00m \u001b[38;5;167;01mValueError\u001b[39;00m(\n\u001b[0;32m    277\u001b[0m         \u001b[38;5;124mf\u001b[39m\u001b[38;5;124m\"\u001b[39m\u001b[38;5;124mIPython won\u001b[39m\u001b[38;5;124m'\u001b[39m\u001b[38;5;124mt let you open fd=\u001b[39m\u001b[38;5;132;01m{\u001b[39;00mfile\u001b[38;5;132;01m}\u001b[39;00m\u001b[38;5;124m by default \u001b[39m\u001b[38;5;124m\"\u001b[39m\n\u001b[0;32m    278\u001b[0m         \u001b[38;5;124m\"\u001b[39m\u001b[38;5;124mas it is likely to crash IPython. If you know what you are doing, \u001b[39m\u001b[38;5;124m\"\u001b[39m\n\u001b[0;32m    279\u001b[0m         \u001b[38;5;124m\"\u001b[39m\u001b[38;5;124myou can use builtins\u001b[39m\u001b[38;5;124m'\u001b[39m\u001b[38;5;124m open.\u001b[39m\u001b[38;5;124m\"\u001b[39m\n\u001b[0;32m    280\u001b[0m     )\n\u001b[1;32m--> 282\u001b[0m \u001b[38;5;28;01mreturn\u001b[39;00m io_open(file, \u001b[38;5;241m*\u001b[39margs, \u001b[38;5;241m*\u001b[39m\u001b[38;5;241m*\u001b[39mkwargs)\n",
      "\u001b[1;31mFileNotFoundError\u001b[0m: [Errno 2] No such file or directory: 'test.txt'"
     ]
    }
   ],
   "source": [
    "f = open(\"test.txt\", \"r\")\n",
    "print(\"This is my print\")"
   ]
  },
  {
   "cell_type": "markdown",
   "id": "306a7990",
   "metadata": {},
   "source": [
    "# Try Except block"
   ]
  },
  {
   "cell_type": "code",
   "execution_count": 8,
   "id": "cb1ad480",
   "metadata": {},
   "outputs": [
    {
     "name": "stdout",
     "output_type": "stream",
     "text": [
      "This my exception division by zero\n"
     ]
    }
   ],
   "source": [
    "try:\n",
    "    a = 10\n",
    "    a/0\n",
    "    \n",
    "    f = open(\"test.txt\", 'r')\n",
    "except Exception as e:\n",
    "    print(\"This my exception\", e)"
   ]
  },
  {
   "cell_type": "markdown",
   "id": "1ac3347e",
   "metadata": {},
   "source": [
    "# else block\n",
    "- If used if try block is executed"
   ]
  },
  {
   "cell_type": "code",
   "execution_count": 10,
   "id": "0e9e7c8c",
   "metadata": {},
   "outputs": [
    {
     "name": "stdout",
     "output_type": "stream",
     "text": [
      "try block is excuted without error\n"
     ]
    }
   ],
   "source": [
    "try:\n",
    "    f = open(\"test.txt\", 'w')\n",
    "    f.write(\" write in test.txt file\")\n",
    "except Exception as e:\n",
    "    print(\"This my exception\", e)\n",
    "else:\n",
    "    f.close()\n",
    "    print(\"try block is excuted without error\")"
   ]
  },
  {
   "cell_type": "code",
   "execution_count": 12,
   "id": "3f685433",
   "metadata": {},
   "outputs": [
    {
     "name": "stdout",
     "output_type": "stream",
     "text": [
      "This my exception [Errno 2] No such file or directory: 'test1.txt'\n"
     ]
    }
   ],
   "source": [
    "try:\n",
    "    f = open(\"test1.txt\", 'r')\n",
    "    f.write(\" write in test.txt file\")\n",
    "except Exception as e:\n",
    "    print(\"This my exception\", e)\n",
    "else:\n",
    "    f.close()\n",
    "    print(\"try block is excuted without error\")"
   ]
  },
  {
   "cell_type": "markdown",
   "id": "6d3a0828",
   "metadata": {},
   "source": [
    "## Nested try block could be any in Try block"
   ]
  },
  {
   "cell_type": "markdown",
   "id": "435b1182",
   "metadata": {},
   "source": [
    "# finally block\n",
    "- this block always executed if error is excute also"
   ]
  },
  {
   "cell_type": "code",
   "execution_count": 13,
   "id": "b55e2da2",
   "metadata": {},
   "outputs": [
    {
     "name": "stdout",
     "output_type": "stream",
     "text": [
      "This is finally block excuted after try block\n"
     ]
    }
   ],
   "source": [
    "try:\n",
    "    f = open(\"test2.txt\", 'w')\n",
    "    f.write(\" write in test.txt file\")\n",
    "finally:\n",
    "    print(\"This is finally block excuted after try block\")"
   ]
  },
  {
   "cell_type": "code",
   "execution_count": 14,
   "id": "23ecc923",
   "metadata": {},
   "outputs": [
    {
     "name": "stdout",
     "output_type": "stream",
     "text": [
      "This is finally block excuted after try block\n"
     ]
    },
    {
     "ename": "FileNotFoundError",
     "evalue": "[Errno 2] No such file or directory: 'test3.txt'",
     "output_type": "error",
     "traceback": [
      "\u001b[1;31m---------------------------------------------------------------------------\u001b[0m",
      "\u001b[1;31mFileNotFoundError\u001b[0m                         Traceback (most recent call last)",
      "Cell \u001b[1;32mIn[14], line 2\u001b[0m\n\u001b[0;32m      1\u001b[0m \u001b[38;5;28;01mtry\u001b[39;00m:\n\u001b[1;32m----> 2\u001b[0m     f \u001b[38;5;241m=\u001b[39m \u001b[38;5;28;43mopen\u001b[39;49m\u001b[43m(\u001b[49m\u001b[38;5;124;43m\"\u001b[39;49m\u001b[38;5;124;43mtest3.txt\u001b[39;49m\u001b[38;5;124;43m\"\u001b[39;49m\u001b[43m,\u001b[49m\u001b[43m \u001b[49m\u001b[38;5;124;43m'\u001b[39;49m\u001b[38;5;124;43mr\u001b[39;49m\u001b[38;5;124;43m'\u001b[39;49m\u001b[43m)\u001b[49m\n\u001b[0;32m      3\u001b[0m     f\u001b[38;5;241m.\u001b[39mwrite(\u001b[38;5;124m\"\u001b[39m\u001b[38;5;124m write in test.txt file\u001b[39m\u001b[38;5;124m\"\u001b[39m)\n\u001b[0;32m      4\u001b[0m \u001b[38;5;28;01mfinally\u001b[39;00m:\n",
      "File \u001b[1;32m~\\AppData\\Roaming\\Python\\Python310\\site-packages\\IPython\\core\\interactiveshell.py:282\u001b[0m, in \u001b[0;36m_modified_open\u001b[1;34m(file, *args, **kwargs)\u001b[0m\n\u001b[0;32m    275\u001b[0m \u001b[38;5;28;01mif\u001b[39;00m file \u001b[38;5;129;01min\u001b[39;00m {\u001b[38;5;241m0\u001b[39m, \u001b[38;5;241m1\u001b[39m, \u001b[38;5;241m2\u001b[39m}:\n\u001b[0;32m    276\u001b[0m     \u001b[38;5;28;01mraise\u001b[39;00m \u001b[38;5;167;01mValueError\u001b[39;00m(\n\u001b[0;32m    277\u001b[0m         \u001b[38;5;124mf\u001b[39m\u001b[38;5;124m\"\u001b[39m\u001b[38;5;124mIPython won\u001b[39m\u001b[38;5;124m'\u001b[39m\u001b[38;5;124mt let you open fd=\u001b[39m\u001b[38;5;132;01m{\u001b[39;00mfile\u001b[38;5;132;01m}\u001b[39;00m\u001b[38;5;124m by default \u001b[39m\u001b[38;5;124m\"\u001b[39m\n\u001b[0;32m    278\u001b[0m         \u001b[38;5;124m\"\u001b[39m\u001b[38;5;124mas it is likely to crash IPython. If you know what you are doing, \u001b[39m\u001b[38;5;124m\"\u001b[39m\n\u001b[0;32m    279\u001b[0m         \u001b[38;5;124m\"\u001b[39m\u001b[38;5;124myou can use builtins\u001b[39m\u001b[38;5;124m'\u001b[39m\u001b[38;5;124m open.\u001b[39m\u001b[38;5;124m\"\u001b[39m\n\u001b[0;32m    280\u001b[0m     )\n\u001b[1;32m--> 282\u001b[0m \u001b[38;5;28;01mreturn\u001b[39;00m io_open(file, \u001b[38;5;241m*\u001b[39margs, \u001b[38;5;241m*\u001b[39m\u001b[38;5;241m*\u001b[39mkwargs)\n",
      "\u001b[1;31mFileNotFoundError\u001b[0m: [Errno 2] No such file or directory: 'test3.txt'"
     ]
    }
   ],
   "source": [
    "try:\n",
    "    f = open(\"test3.txt\", 'r')\n",
    "    f.write(\" write in test.txt file\")\n",
    "finally:\n",
    "    print(\"This is finally block excuted after try block\")\n",
    "    "
   ]
  },
  {
   "cell_type": "markdown",
   "id": "0af72835",
   "metadata": {},
   "source": [
    "# Custom Exception Handling"
   ]
  },
  {
   "cell_type": "code",
   "execution_count": 24,
   "id": "5ffe380c",
   "metadata": {},
   "outputs": [],
   "source": [
    "class validateage(Exception):\n",
    "    \n",
    "    def __init__(self, msg):\n",
    "        self.msg = msg"
   ]
  },
  {
   "cell_type": "code",
   "execution_count": 31,
   "id": "fbce706c",
   "metadata": {},
   "outputs": [],
   "source": [
    "def validateage(age) :\n",
    "        if age < 0:\n",
    "            raise validateage(\"Enter age is Invalid\")\n",
    "        elif age > 150:\n",
    "            raise validateage(\"Enter age is very high\")\n",
    "        else:\n",
    "            print(\"Age is valid\")"
   ]
  },
  {
   "cell_type": "code",
   "execution_count": 33,
   "id": "0eda6bfb",
   "metadata": {},
   "outputs": [
    {
     "name": "stdout",
     "output_type": "stream",
     "text": [
      "Enter Your Age \t-9\n"
     ]
    },
    {
     "ename": "TypeError",
     "evalue": "catching classes that do not inherit from BaseException is not allowed",
     "output_type": "error",
     "traceback": [
      "\u001b[1;31m---------------------------------------------------------------------------\u001b[0m",
      "\u001b[1;31mTypeError\u001b[0m                                 Traceback (most recent call last)",
      "Cell \u001b[1;32mIn[33], line 3\u001b[0m\n\u001b[0;32m      2\u001b[0m     age \u001b[38;5;241m=\u001b[39m \u001b[38;5;28mint\u001b[39m(\u001b[38;5;28minput\u001b[39m(\u001b[38;5;124m\"\u001b[39m\u001b[38;5;124mEnter Your Age \u001b[39m\u001b[38;5;130;01m\\t\u001b[39;00m\u001b[38;5;124m\"\u001b[39m))\n\u001b[1;32m----> 3\u001b[0m     \u001b[43mvalidateage\u001b[49m\u001b[43m(\u001b[49m\u001b[43mage\u001b[49m\u001b[43m)\u001b[49m\n\u001b[0;32m      4\u001b[0m \u001b[38;5;28;01mexcept\u001b[39;00m validateage \u001b[38;5;28;01mas\u001b[39;00m e:\n",
      "Cell \u001b[1;32mIn[31], line 3\u001b[0m, in \u001b[0;36mvalidateage\u001b[1;34m(age)\u001b[0m\n\u001b[0;32m      2\u001b[0m \u001b[38;5;28;01mif\u001b[39;00m age \u001b[38;5;241m<\u001b[39m \u001b[38;5;241m0\u001b[39m:\n\u001b[1;32m----> 3\u001b[0m     \u001b[38;5;28;01mraise\u001b[39;00m \u001b[43mvalidateage\u001b[49m\u001b[43m(\u001b[49m\u001b[38;5;124;43m\"\u001b[39;49m\u001b[38;5;124;43mEnter age is Invalid\u001b[39;49m\u001b[38;5;124;43m\"\u001b[39;49m\u001b[43m)\u001b[49m\n\u001b[0;32m      4\u001b[0m \u001b[38;5;28;01melif\u001b[39;00m age \u001b[38;5;241m>\u001b[39m \u001b[38;5;241m150\u001b[39m:\n",
      "Cell \u001b[1;32mIn[31], line 2\u001b[0m, in \u001b[0;36mvalidateage\u001b[1;34m(age)\u001b[0m\n\u001b[0;32m      1\u001b[0m \u001b[38;5;28;01mdef\u001b[39;00m \u001b[38;5;21mvalidateage\u001b[39m(age) :\n\u001b[1;32m----> 2\u001b[0m         \u001b[38;5;28;01mif\u001b[39;00m \u001b[43mage\u001b[49m\u001b[43m \u001b[49m\u001b[38;5;241;43m<\u001b[39;49m\u001b[43m \u001b[49m\u001b[38;5;241;43m0\u001b[39;49m:\n\u001b[0;32m      3\u001b[0m             \u001b[38;5;28;01mraise\u001b[39;00m validateage(\u001b[38;5;124m\"\u001b[39m\u001b[38;5;124mEnter age is Invalid\u001b[39m\u001b[38;5;124m\"\u001b[39m)\n",
      "\u001b[1;31mTypeError\u001b[0m: '<' not supported between instances of 'str' and 'int'",
      "\nDuring handling of the above exception, another exception occurred:\n",
      "\u001b[1;31mTypeError\u001b[0m                                 Traceback (most recent call last)",
      "Cell \u001b[1;32mIn[33], line 4\u001b[0m\n\u001b[0;32m      2\u001b[0m     age \u001b[38;5;241m=\u001b[39m \u001b[38;5;28mint\u001b[39m(\u001b[38;5;28minput\u001b[39m(\u001b[38;5;124m\"\u001b[39m\u001b[38;5;124mEnter Your Age \u001b[39m\u001b[38;5;130;01m\\t\u001b[39;00m\u001b[38;5;124m\"\u001b[39m))\n\u001b[0;32m      3\u001b[0m     validateage(age)\n\u001b[1;32m----> 4\u001b[0m \u001b[38;5;28;01mexcept\u001b[39;00m validateage \u001b[38;5;28;01mas\u001b[39;00m e:\n\u001b[0;32m      5\u001b[0m     \u001b[38;5;28mprint\u001b[39m(e)\n",
      "\u001b[1;31mTypeError\u001b[0m: catching classes that do not inherit from BaseException is not allowed"
     ]
    }
   ],
   "source": [
    "try :\n",
    "    age = int(input(\"Enter Your Age \\t\"))\n",
    "    validateage(age)\n",
    "except validateage as e:\n",
    "    print(e)"
   ]
  },
  {
   "cell_type": "code",
   "execution_count": 35,
   "id": "4eb9d5fd",
   "metadata": {},
   "outputs": [
    {
     "name": "stdout",
     "output_type": "stream",
     "text": [
      "Enter Your Age \t666\n",
      "Enter age is very high\n"
     ]
    }
   ],
   "source": [
    "class ValidateAge(Exception):\n",
    "    def __init__(self, msg):\n",
    "        self.msg = msg\n",
    "        \n",
    "def validate_age(age):\n",
    "    if age < 0:\n",
    "        raise ValidateAge(\"Enter age is Invalid\")\n",
    "    elif age > 150:\n",
    "        raise ValidateAge(\"Enter age is very high\")\n",
    "    else:\n",
    "        print(\"Age is valid\")\n",
    "\n",
    "try:\n",
    "    age = int(input(\"Enter Your Age \\t\"))\n",
    "    validate_age(age)\n",
    "except ValidateAge as e:\n",
    "    print(e)\n"
   ]
  },
  {
   "cell_type": "code",
   "execution_count": null,
   "id": "262dffcf",
   "metadata": {},
   "outputs": [],
   "source": []
  }
 ],
 "metadata": {
  "kernelspec": {
   "display_name": "Python 3 (ipykernel)",
   "language": "python",
   "name": "python3"
  },
  "language_info": {
   "codemirror_mode": {
    "name": "ipython",
    "version": 3
   },
   "file_extension": ".py",
   "mimetype": "text/x-python",
   "name": "python",
   "nbconvert_exporter": "python",
   "pygments_lexer": "ipython3",
   "version": "3.10.9"
  }
 },
 "nbformat": 4,
 "nbformat_minor": 5
}
