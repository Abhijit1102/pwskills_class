{
 "cells": [
  {
   "cell_type": "code",
   "execution_count": 1,
   "id": "63309070",
   "metadata": {},
   "outputs": [
    {
     "name": "stdout",
     "output_type": "stream",
     "text": [
      "division by zero\n"
     ]
    }
   ],
   "source": [
    "try: \n",
    "    a= 10\n",
    "    a/0\n",
    "except ZeroDivisionError as e:\n",
    "    print(e)"
   ]
  },
  {
   "cell_type": "code",
   "execution_count": 2,
   "id": "e2322d1a",
   "metadata": {},
   "outputs": [
    {
     "name": "stdout",
     "output_type": "stream",
     "text": [
      "invalid literal for int() with base 10: 'Abhi'\n"
     ]
    }
   ],
   "source": [
    "try:\n",
    "    int(\"Abhi\")\n",
    "except (ValueError, TypeError) as e:\n",
    "    print(e)"
   ]
  },
  {
   "cell_type": "code",
   "execution_count": 3,
   "id": "2077c067",
   "metadata": {},
   "outputs": [
    {
     "name": "stdout",
     "output_type": "stream",
     "text": [
      "No module named 'abhi'\n"
     ]
    }
   ],
   "source": [
    "try:\n",
    "    import abhi\n",
    "except ImportError as e:\n",
    "    print(e)"
   ]
  },
  {
   "cell_type": "code",
   "execution_count": 6,
   "id": "da02497c",
   "metadata": {},
   "outputs": [
    {
     "name": "stdout",
     "output_type": "stream",
     "text": [
      "'key10'\n"
     ]
    }
   ],
   "source": [
    "try:\n",
    "    d = {1:[1,2,3,4], \"key\" :\"Abhi\"}\n",
    "    d[\"key10\"]\n",
    "except KeyError as e:\n",
    "    print(e)"
   ]
  },
  {
   "cell_type": "code",
   "execution_count": 7,
   "id": "8df00516",
   "metadata": {},
   "outputs": [
    {
     "name": "stdout",
     "output_type": "stream",
     "text": [
      "'str' object has no attribute 'test'\n"
     ]
    }
   ],
   "source": [
    "try:\n",
    "    \"abhi\".test()\n",
    "except AttributeError as e:\n",
    "    print(e)\n",
    "    "
   ]
  },
  {
   "cell_type": "code",
   "execution_count": 9,
   "id": "453d1d41",
   "metadata": {},
   "outputs": [
    {
     "name": "stdout",
     "output_type": "stream",
     "text": [
      "list index out of range\n"
     ]
    }
   ],
   "source": [
    "try:\n",
    "    l = [1,2,3,4]\n",
    "    l[10]\n",
    "except IndexError as e:\n",
    "    print(e)"
   ]
  },
  {
   "cell_type": "code",
   "execution_count": 11,
   "id": "9ccf75e4",
   "metadata": {},
   "outputs": [
    {
     "name": "stdout",
     "output_type": "stream",
     "text": [
      "unsupported operand type(s) for +: 'int' and 'str'\n"
     ]
    }
   ],
   "source": [
    "try:\n",
    "    123 + \"Abhi\"\n",
    "except TypeError as e:\n",
    "    print(e)\n",
    "    "
   ]
  },
  {
   "cell_type": "code",
   "execution_count": 14,
   "id": "d4b3c1ab",
   "metadata": {},
   "outputs": [
    {
     "name": "stdout",
     "output_type": "stream",
     "text": [
      "[Errno 2] No such file or directory: 'test6.txt'\n"
     ]
    }
   ],
   "source": [
    "try:\n",
    "    with open(\"test6.txt\", \"r\") as f :\n",
    "        f.read()\n",
    "except FileNotFoundError as e:\n",
    "    print(e)        "
   ]
  },
  {
   "cell_type": "code",
   "execution_count": 17,
   "id": "a6e7fdb2",
   "metadata": {},
   "outputs": [
    {
     "name": "stdout",
     "output_type": "stream",
     "text": [
      "[Errno 2] No such file or directory: 'test6.txt'\n"
     ]
    }
   ],
   "source": [
    "try:\n",
    "    with open(\"test6.txt\", \"r\") as f :\n",
    "        f.read()\n",
    "except Exception as e: ## Exception is super-class\n",
    "    print(e)\n",
    "except FileNotFoundError as e:\n",
    "    print(\"This FileNotFoundError\", e)        "
   ]
  },
  {
   "cell_type": "code",
   "execution_count": 24,
   "id": "d5dc4f71",
   "metadata": {},
   "outputs": [],
   "source": [
    "def test(file):\n",
    "    try:\n",
    "        with open(\"test6.txt\", \"r\") as f :\n",
    "            f.read()\n",
    "    except Exception as e: ## Exception is super-class\n",
    "        print(e)\n",
    "    except FileNotFoundError as e:\n",
    "        print(\"This FileNotFoundError\", e)        "
   ]
  },
  {
   "cell_type": "code",
   "execution_count": 21,
   "id": "90634e0a",
   "metadata": {},
   "outputs": [
    {
     "name": "stdout",
     "output_type": "stream",
     "text": [
      "[Errno 2] No such file or directory: 'test6.txt'\n"
     ]
    }
   ],
   "source": [
    "test(\"file.txt\")"
   ]
  },
  {
   "cell_type": "markdown",
   "id": "2c2dc593",
   "metadata": {},
   "source": [
    "## Best Practice of Exception Handling"
   ]
  },
  {
   "cell_type": "code",
   "execution_count": 25,
   "id": "a13aba1e",
   "metadata": {},
   "outputs": [
    {
     "name": "stdout",
     "output_type": "stream",
     "text": [
      "division by zero\n"
     ]
    }
   ],
   "source": [
    "# use all ways A specific exception like above code not this\n",
    "try:\n",
    "    print(10/0)\n",
    "except Exception as e:\n",
    "    print(e)"
   ]
  },
  {
   "cell_type": "code",
   "execution_count": 27,
   "id": "9b06849a",
   "metadata": {},
   "outputs": [
    {
     "name": "stdout",
     "output_type": "stream",
     "text": [
      "This is zero divisor error : division by zero\n"
     ]
    }
   ],
   "source": [
    "# print always a valid msg\n",
    "try:\n",
    "    print(10/0)\n",
    "except Exception as e:\n",
    "    print(\"This is zero divisor error :\", e)"
   ]
  },
  {
   "cell_type": "code",
   "execution_count": 34,
   "id": "2499adce",
   "metadata": {},
   "outputs": [],
   "source": [
    "#always try login instead of print\n",
    "import logging\n",
    "logging.basicConfig(filename=\"error.log\", level = logging.ERROR)\n",
    "try:\n",
    "    10/0\n",
    "except ZeroDivisionError as e:\n",
    "    logging.error(\"This is zero divisor error : {}\" .format(e) )"
   ]
  },
  {
   "cell_type": "code",
   "execution_count": 36,
   "id": "b0f22010",
   "metadata": {},
   "outputs": [],
   "source": [
    "# always avoid to multiple excertion file handling\n",
    "try:\n",
    "    10/0\n",
    "except ZeroDivisionError as e:\n",
    "    logging.error(\"This is zero divisor error : {}\" .format(e) )\n",
    "except FileNotFoundError as e:\n",
    "    logging.error(\"This is zero divisor error : {}\" .format(e) )\n",
    "except ArithmeticError as e:\n",
    "    logging.error(\"This is zero divisor error : {}\" .format(e) )    \n",
    "    "
   ]
  },
  {
   "cell_type": "code",
   "execution_count": null,
   "id": "82b80b73",
   "metadata": {},
   "outputs": [],
   "source": [
    "# preapare a proper documentation"
   ]
  },
  {
   "cell_type": "code",
   "execution_count": 38,
   "id": "7992dc76",
   "metadata": {},
   "outputs": [],
   "source": [
    "# clean up all the resources it will save the Bandwith of network\n",
    "\n",
    "try:\n",
    "    with open(\"test.txt\", \"w\") as f:\n",
    "        f.write(\"this is my msg to file\")\n",
    "except FileNotFoundError as e:\n",
    "    logging.error(\"This is a file not found error {}\".format(e))\n",
    "finally:\n",
    "    f.close()"
   ]
  },
  {
   "cell_type": "code",
   "execution_count": null,
   "id": "3055776c",
   "metadata": {},
   "outputs": [],
   "source": []
  }
 ],
 "metadata": {
  "kernelspec": {
   "display_name": "Python 3 (ipykernel)",
   "language": "python",
   "name": "python3"
  },
  "language_info": {
   "codemirror_mode": {
    "name": "ipython",
    "version": 3
   },
   "file_extension": ".py",
   "mimetype": "text/x-python",
   "name": "python",
   "nbconvert_exporter": "python",
   "pygments_lexer": "ipython3",
   "version": "3.10.9"
  }
 },
 "nbformat": 4,
 "nbformat_minor": 5
}
