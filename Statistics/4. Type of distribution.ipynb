{
 "cells": [
  {
   "cell_type": "markdown",
   "id": "fa643f5d",
   "metadata": {},
   "source": [
    "## Q1. What is the Probability density function?"
   ]
  },
  {
   "cell_type": "markdown",
   "id": "dbed8e45",
   "metadata": {},
   "source": [
    "`Probability density function (PDF)` is a function that describes the probability distribution of a continuous random variable. In other words, it is a function that specifies the relative likelihood of observing a particular value of the random variable. The PDF is often denoted by f(x) and is defined as the derivative of the `cumulative distribution function (CDF)` of the random variable.\n",
    "\n",
    "The PDF of a continuous random variable is non-negative for all values of the variable, and the area under the curve of the PDF over the entire range of the variable is equal to 1. This means that the total probability of observing any value of the variable is equal to 1.\n",
    "\n",
    "The PDF is used in many areas of probability and statistics, including hypothesis testing, estimation, and modeling. It provides a powerful tool for understanding the behavior of random variables and the probability distribution of their outcomes."
   ]
  },
  {
   "cell_type": "markdown",
   "id": "dc4f76bf",
   "metadata": {},
   "source": [
    "## Q2. What are the types of Probability distribution?"
   ]
  },
  {
   "cell_type": "markdown",
   "id": "08d87c36",
   "metadata": {},
   "source": [
    "There are many types of probability distributions, but some of the most commonly used ones are:\n",
    "\n",
    "- 1. `Binomial Distribution`: This distribution describes the probability of obtaining a certain number of successes in a fixed number of independent trials. It is often used in applications such as quality control, where the number of defective products in a batch is counted.\n",
    "\n",
    "- 2. `Normal Distribution`: Also known as the Gaussian distribution, this is a continuous probability distribution that is often used to model real-world phenomena such as height, weight, and IQ scores. The normal distribution is symmetric, bell-shaped, and characterized by two parameters, the mean and standard deviation.\n",
    "\n",
    "- 3. `Poisson Distribution`: This distribution describes the probability of a certain number of events occurring in a fixed interval of time or space. It is often used to model rare events, such as the number of accidents in a day or the number of phone calls received in an hour.\n",
    "\n",
    "- 4. `Exponential Distribution`: This distribution describes the probability of the time between two consecutive events occurring in a Poisson process. It is often used in reliability analysis to model the time to failure of a system.\n",
    "\n",
    "- 5. `Uniform Distribution`: This distribution describes the probability of obtaining any value within a certain range, with all values being equally likely. It is often used in simulations and modeling where all possible outcomes are equally likely."
   ]
  },
  {
   "cell_type": "markdown",
   "id": "89d45f09",
   "metadata": {},
   "source": [
    "## Q3. Write a Python function to calculate the probability density function of a normal distribution with given mean and standard deviation at a given point."
   ]
  },
  {
   "cell_type": "code",
   "execution_count": 1,
   "id": "b3c0716a",
   "metadata": {},
   "outputs": [],
   "source": [
    "import math\n",
    "\n",
    "def normal_pdf(x, mean, sd):\n",
    "    \"\"\"\n",
    "    Calculate the probability density function (PDF) of a normal distribution with given mean and standard deviation at a given point.\n",
    "\n",
    "    Args:\n",
    "    x (float): The point at which the PDF is to be calculated.\n",
    "    mean (float): The mean of the normal distribution.\n",
    "    sd (float): The standard deviation of the normal distribution.\n",
    "\n",
    "    Returns:\n",
    "    float: The value of the PDF at the given point.\n",
    "    \"\"\"\n",
    "    exponent = -(x-mean)**2 / (2 * sd**2)\n",
    "    denominator = sd * math.sqrt(2 * math.pi)\n",
    "    return (1/denominator) * math.exp(exponent)\n"
   ]
  },
  {
   "cell_type": "code",
   "execution_count": 2,
   "id": "f042c719",
   "metadata": {},
   "outputs": [
    {
     "name": "stdout",
     "output_type": "stream",
     "text": [
      "0.01752830049356854\n"
     ]
    }
   ],
   "source": [
    "x = 2.5\n",
    "mean = 0\n",
    "sd = 1\n",
    "pdf = normal_pdf(x, mean, sd)\n",
    "print(pdf)\n"
   ]
  },
  {
   "cell_type": "markdown",
   "id": "4b03adeb",
   "metadata": {},
   "source": [
    "## Q4. What are the properties of Binomial distribution? Give two examples of events where binomial distribution can be applied."
   ]
  },
  {
   "cell_type": "markdown",
   "id": "d6560f94",
   "metadata": {},
   "source": [
    "The binomial distribution has the following properties:\n",
    "- 1. The number of trials, n, is fixed.\n",
    "- 2. Each trial has only two possible outcomes, usually referred to as success and failure.\n",
    "- 3. The probability of success, p, is constant for each trial.\n",
    "- 4. The trials are independent of each other.\n",
    "\n",
    "Two examples of events where the binomial distribution can be applied are:\n",
    "\n",
    "- `Tossing a coin`: Suppose you toss a coin 10 times and want to know the probability of getting exactly 6 heads. This is an example of a binomial distribution, where the number of trials is fixed (10), the outcome of each trial is either heads or tails, the probability of getting heads is constant (0.5), and the trials are independent of each other.\n",
    "\n",
    "- `Quality control`: Suppose a factory produces light bulbs, and 10% of the bulbs are defective. If a sample of 20 bulbs is randomly selected, what is the probability that exactly 3 of them are defective? This is also an example of a binomial distribution, where the number of trials is fixed (20), the outcome of each trial is either defective or non-defective, the probability of a bulb being defective is constant (0.1), and the trials are independent of each other"
   ]
  },
  {
   "cell_type": "markdown",
   "id": "df09439b",
   "metadata": {},
   "source": [
    "## Q5. Generate a random sample of size 1000 from a binomial distribution with probability of success 0.4 and plot a histogram of the results using matplotlib."
   ]
  },
  {
   "cell_type": "code",
   "execution_count": 3,
   "id": "daaa4bb6",
   "metadata": {},
   "outputs": [
    {
     "data": {
      "image/png": "[encoded data removed]",
      "text/plain": [
       "<Figure size 640x480 with 1 Axes>"
      ]
     },
     "metadata": {},
     "output_type": "display_data"
    }
   ],
   "source": [
    "import numpy as np\n",
    "import matplotlib.pyplot as plt\n",
    "\n",
    "# Set the parameters\n",
    "n = 1000 # sample size\n",
    "p = 0.4 # probability of success\n",
    "\n",
    "# Generate the random sample\n",
    "sample = np.random.binomial(n, p, size=n)\n",
    "\n",
    "# Plot the histogram\n",
    "plt.hist(sample, bins=20, alpha=0.5)\n",
    "plt.xlabel('Number of successes')\n",
    "plt.ylabel('Frequency')\n",
    "plt.title('Binomial Distribution Histogram')\n",
    "plt.show()\n"
   ]
  },
  {
   "cell_type": "markdown",
   "id": "b948efb1",
   "metadata": {},
   "source": [
    "## Q6. Write a Python function to calculate the cumulative distribution function of a Poisson distribution with given mean at a given point."
   ]
  },
  {
   "cell_type": "code",
   "execution_count": 4,
   "id": "d16f4d52",
   "metadata": {},
   "outputs": [],
   "source": [
    "import math\n",
    "\n",
    "def poisson_cdf(k, mean):\n",
    "    \"\"\"\n",
    "    Calculate the cumulative distribution function (CDF) of a Poisson distribution with a given mean at a given point.\n",
    "\n",
    "    Args:\n",
    "    k (int): The point at which the CDF is to be calculated.\n",
    "    mean (float): The mean of the Poisson distribution.\n",
    "\n",
    "    Returns:\n",
    "    float: The value of the CDF at the given point.\n",
    "    \"\"\"\n",
    "    cdf = 0.0\n",
    "    for i in range(k+1):\n",
    "        cdf += math.exp(-mean) * mean**i / math.factorial(i)\n",
    "    return cdf\n"
   ]
  },
  {
   "cell_type": "code",
   "execution_count": 5,
   "id": "03803429",
   "metadata": {},
   "outputs": [
    {
     "name": "stdout",
     "output_type": "stream",
     "text": [
      "0.7575761331330659\n"
     ]
    }
   ],
   "source": [
    "k = 3\n",
    "mean = 2.5\n",
    "cdf = poisson_cdf(k, mean)\n",
    "print(cdf)\n"
   ]
  },
  {
   "cell_type": "markdown",
   "id": "e333041f",
   "metadata": {},
   "source": [
    "## Q7. How Binomial distribution different from Poisson distribution?"
   ]
  },
  {
   "cell_type": "markdown",
   "id": "ad58ad07",
   "metadata": {},
   "source": [
    "The `Binomial` distribution and `Poisson` distribution are both probability distributions, but they are used to model different types of events.\n",
    "\n",
    "The main difference between `Binomial` and `Poisson` distributions is the type of event they model. The Binomial distribution models the number of successes in a fixed number of independent trials, where each trial has only two possible `outcomes` (success or failure). The Poisson distribution models the number of occurrences of a rare event in a fixed unit of time or space.\n",
    "\n",
    "Another difference is in the parameters used to describe the distributions. The Binomial distribution is described by the number of `trials` (n) and the probability of` success` (p), while the Poisson distribution is described by the `rate of occurrence (λ)`.\n",
    "\n",
    "The shape of the distributions can also differ. The Binomial distribution is discrete, meaning it only takes on integer values, while the Poisson distribution is continuous and can take on any non-negative real value."
   ]
  },
  {
   "cell_type": "markdown",
   "id": "a55bf632",
   "metadata": {},
   "source": [
    "## Q8. Generate a random sample of size 1000 from a Poisson distribution with mean 5 and calculate the sample mean and variance."
   ]
  },
  {
   "cell_type": "code",
   "execution_count": 6,
   "id": "525b2c89",
   "metadata": {},
   "outputs": [
    {
     "name": "stdout",
     "output_type": "stream",
     "text": [
      "Sample mean: 4.974\n",
      "Sample variance: 4.884208208208209\n"
     ]
    }
   ],
   "source": [
    "import numpy as np\n",
    "\n",
    "# Set the parameters\n",
    "n = 1000 # sample size\n",
    "mean = 5\n",
    "\n",
    "# Generate the random sample\n",
    "sample = np.random.poisson(mean, size=n)\n",
    "\n",
    "# Calculate the sample mean and variance\n",
    "sample_mean = np.mean(sample)\n",
    "sample_var = np.var(sample, ddof=1)\n",
    "\n",
    "# Print the results\n",
    "print(\"Sample mean:\", sample_mean)\n",
    "print(\"Sample variance:\", sample_var)\n"
   ]
  },
  {
   "cell_type": "markdown",
   "id": "510f192f",
   "metadata": {},
   "source": [
    "## Q9. How mean and variance are related in Binomial distribution and Poisson distribution?"
   ]
  },
  {
   "cell_type": "markdown",
   "id": "c936e054",
   "metadata": {},
   "source": [
    "In both `Binomial` and `Poisson` distributions, the mean and variance are related, but the nature of the relationship is different.\n",
    "\n",
    "In a Binomial distribution with parameters `n (number of trials)` and `p (probability of success)`, the mean is given by `μ = np` and the variance is given by  $\\sigma^2 = np(1-p)$ . So, the variance is directly proportional to the mean and also depends on the probability of success and failure.\n",
    "\n",
    "In a Poisson distribution with parameter `λ (the rate of occurrence)`, the mean and variance are both equal to λ. So, in a Poisson distribution, the variance is equal to the mean. This means that the variability of the distribution is determined solely by the mean, and the distribution becomes more concentrated around the mean as the mean increases."
   ]
  },
  {
   "cell_type": "markdown",
   "id": "017fb38e",
   "metadata": {},
   "source": [
    "## Q10. In normal distribution with respect to mean position, where does the least frequent data appear?"
   ]
  },
  {
   "cell_type": "markdown",
   "id": "b3ecf1ba",
   "metadata": {},
   "source": [
    "In a `normal distribution`, the least frequent data appears at the tails, which are the extreme values that are farther away from the mean. Specifically, the tails are the regions beyond a certain number of standard deviations from the mean, which are determined by the chosen level of significance or probability.\n",
    "\n",
    "For example, in a standard normal distribution (with mean = 0 and standard deviation = 1), the least frequent data appears in the tails beyond 2 or 3 standard deviations from the mean, which correspond to the lower and upper 2.5% or 0.3% of the distribution, respectively, assuming a two-tailed test."
   ]
  },
  {
   "cell_type": "code",
   "execution_count": null,
   "id": "f4becd6f",
   "metadata": {},
   "outputs": [],
   "source": []
  },
  {
   "cell_type": "code",
   "execution_count": null,
   "id": "70fc0400",
   "metadata": {},
   "outputs": [],
   "source": []
  },
  {
   "cell_type": "code",
   "execution_count": null,
   "id": "08e114f4",
   "metadata": {},
   "outputs": [],
   "source": []
  }
 ],
 "metadata": {
  "kernelspec": {
   "display_name": "Python 3 (ipykernel)",
   "language": "python",
   "name": "python3"
  },
  "language_info": {
   "codemirror_mode": {
    "name": "ipython",
    "version": 3
   },
   "file_extension": ".py",
   "mimetype": "text/x-python",
   "name": "python",
   "nbconvert_exporter": "python",
   "pygments_lexer": "ipython3",
   "version": "3.10.9"
  }
 },
 "nbformat": 4,
 "nbformat_minor": 5
}
