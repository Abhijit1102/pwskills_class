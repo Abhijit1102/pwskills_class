{
 "cells": [
  {
   "cell_type": "markdown",
   "id": "e944c811",
   "metadata": {},
   "source": [
    "## Uniform Distributiuon\n",
    "- 1. Continuous Uniform Distribution: or Rectangular distributionis family of symmetric probabaility disytributions. describes an experimrntal outcome that lies between ceratin bound. The bounds are  defined by a and b, which are the minimun a and maximum b. The interval can be closed or open.\n",
    "     - Notation : $u(a,b)$\n",
    "     - Mean , medain : $\\frac{(a+b)}{2}$\n",
    "     - Example : No of Candey sold daily at a shop is uniform discrete with minimun of 10 and maximum 40. Probability of daily sale to fall between 15 and 30; Answer ( area under 15 and 30 by pdf)\n",
    "     - $ P(15<= x<=30) = 0.5 $\n",
    "- 2. Discrete Uniform Distribution: the discrete iniform distribution is a symmetric probability distribution where finite number of values are equally likely to be observed ; every one of n element has equal probability 1/n.\n",
    "     - Example: Rolling a fair dice {1,2,3,4,5,6}\n",
    "     - pr(1)=1/6, pr(2)=1/6, . . .  pr(6)=1/6\n",
    "     - Notation: $u(a,b)$\n",
    "     - mean, median = $\\frac{(a+b)}{2}$\n"
   ]
  },
  {
   "cell_type": "markdown",
   "id": "e4606a1a",
   "metadata": {},
   "source": [
    "# Standard normal Distribution\n",
    "Let consider a random variable x with mean = $\\mu$, standard deviation = $\\sigma$, we want to convert this distribution having mean = 0, std = 1, for this conversion we used Z-score. \n",
    "$$ Z-score formula: y = \\frac{(x_i -\\mu)}{\\sigma}$$\n",
    "### Z-table\n",
    "- Question what percentage of scores falls above 4.25?(AUC[Area undr curve].\n",
    "   - Z-score : $\\frac{(x_i -\\mu)}{\\sigma}$\n",
    "   - Area under the curve  in Z table\n",
    "   \n"
   ]
  },
  {
   "cell_type": "markdown",
   "id": "a11938f8",
   "metadata": {},
   "source": [
    "## Central Limit Theorem\n",
    "- The central limit theorem relies on the concept of sampling distribution , which is probability distribution of statistics for a large sample taken from a poulation.\n",
    "-  The central limit theorem says that the sampling distribution of the mean will always be normally distributed, as long as the samplesize is large enough. Regardless of weather the population has normal, Poisson, Binomial, or any other distribution, the sampling distribution of mean will be normal.\n",
    " -  X ~ $ N(\\mu, \\sigma) $\n",
    " : population data\n",
    " - where $ {S_1, S_2, ... S_n}$ n number of sample having ${\\bar{x_1}, \\bar{x_2},... \\bar{x_n}}$ are n samples means follows a Gaussian or normal distribution if sampling is large enough(n>=30).\n",
    "### Consequence of Central limit Theorem\n",
    "- Initially mean: $\\mu$ after CLT mean will be $\\mu$ but std = $\\frac{\\sigma}{\\sqrt{n}}$"
   ]
  },
  {
   "cell_type": "code",
   "execution_count": null,
   "id": "e0f8368d",
   "metadata": {},
   "outputs": [],
   "source": []
  },
  {
   "cell_type": "code",
   "execution_count": null,
   "id": "9368d117",
   "metadata": {},
   "outputs": [],
   "source": []
  },
  {
   "cell_type": "code",
   "execution_count": null,
   "id": "2d03a0ec",
   "metadata": {},
   "outputs": [],
   "source": []
  },
  {
   "cell_type": "code",
   "execution_count": null,
   "id": "90516b6d",
   "metadata": {},
   "outputs": [],
   "source": []
  },
  {
   "cell_type": "code",
   "execution_count": null,
   "id": "1b26923d",
   "metadata": {},
   "outputs": [],
   "source": []
  },
  {
   "cell_type": "code",
   "execution_count": null,
   "id": "d2e03773",
   "metadata": {},
   "outputs": [],
   "source": []
  }
 ],
 "metadata": {
  "kernelspec": {
   "display_name": "Python 3 (ipykernel)",
   "language": "python",
   "name": "python3"
  },
  "language_info": {
   "codemirror_mode": {
    "name": "ipython",
    "version": 3
   },
   "file_extension": ".py",
   "mimetype": "text/x-python",
   "name": "python",
   "nbconvert_exporter": "python",
   "pygments_lexer": "ipython3",
   "version": "3.10.9"
  }
 },
 "nbformat": 4,
 "nbformat_minor": 5
}
