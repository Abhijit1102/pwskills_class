{
 "cells": [
  {
   "cell_type": "markdown",
   "id": "baba47bf",
   "metadata": {},
   "source": [
    "## F distribution\n",
    "In probability theory and statistics, F - Distribition ort F-ratio also known as Snededor's F distribution or the Fisher- Snedecor distribution is continuous probability distribution thst arises frequency as null distribution of test statistics, nost notably in the analysis of Variance(ANOVA) and other F-test.\n",
    "\n",
    "\n",
    "<img src=\"https://upload.wikimedia.org/wikipedia/commons/7/74/F-distribution_pdf.svg\">\n",
    "\n",
    "<img src =\"https://upload.wikimedia.org/wikipedia/commons/8/8e/F_dist_cdf.svg\">\n",
    "\n",
    "**F test used compared of two means of dataset**"
   ]
  },
  {
   "cell_type": "markdown",
   "id": "ead5d834",
   "metadata": {},
   "source": [
    "## F test in python "
   ]
  },
  {
   "cell_type": "code",
   "execution_count": 5,
   "id": "02de3702",
   "metadata": {},
   "outputs": [],
   "source": [
    "worker1 = [18, 19, 22, 25, 27, 28, 41, 45, 51, 55]\n",
    "worker2 = [14, 15, 15, 17, 18, 22, 25, 25, 27, 34]"
   ]
  },
  {
   "cell_type": "code",
   "execution_count": 6,
   "id": "4e29f1a6",
   "metadata": {},
   "outputs": [],
   "source": [
    "import numpy as np\n",
    "f_test = np.var(worker1)/np.var(worker2)"
   ]
  },
  {
   "cell_type": "code",
   "execution_count": 7,
   "id": "6264a987",
   "metadata": {},
   "outputs": [
    {
     "data": {
      "text/plain": [
       "4.387122002085506"
      ]
     },
     "execution_count": 7,
     "metadata": {},
     "output_type": "execute_result"
    }
   ],
   "source": [
    "f_test"
   ]
  },
  {
   "cell_type": "code",
   "execution_count": 11,
   "id": "35c33f4b",
   "metadata": {},
   "outputs": [],
   "source": [
    "df1 = len(worker1) - 1\n",
    "df2 = len(worker2) - 2\n",
    "significance_value = 0.05"
   ]
  },
  {
   "cell_type": "code",
   "execution_count": 9,
   "id": "d4b0075a",
   "metadata": {},
   "outputs": [],
   "source": [
    "import scipy.stats as stat"
   ]
  },
  {
   "cell_type": "code",
   "execution_count": 13,
   "id": "0f631e3c",
   "metadata": {},
   "outputs": [],
   "source": [
    "critical_value = stat.f.ppf(q=1-significance_value, dfn=df1, dfd=df2)"
   ]
  },
  {
   "cell_type": "code",
   "execution_count": 14,
   "id": "bcca6e52",
   "metadata": {},
   "outputs": [
    {
     "name": "stdout",
     "output_type": "stream",
     "text": [
      "Reject The Null Hypothesis\n"
     ]
    }
   ],
   "source": [
    "if f_test > critical_value:\n",
    "    print(\"Reject The Null Hypothesis\")\n",
    "else:\n",
    "    print(\"We fail to reject the Nulll hypothesis\")\n",
    "    "
   ]
  },
  {
   "cell_type": "markdown",
   "id": "4a60842f",
   "metadata": {},
   "source": [
    "## ANOVA (Analysis of Variance)\n",
    "`Definition`: ANOVA is an statistical method used to compare the means of two or more groups.\n",
    "\n",
    "### ANOVA\n",
    "- 1. Factors (Variable)\n",
    "- 2. levles.\n",
    "\n",
    "### Assumptiom of ANOVA\n",
    "\n",
    "- Normality of Sampling Distribution of Mean ( The distribution  of sample mean is normally distributed)\n",
    "\n",
    "- Absence of Outliers (Outliers score need to be removed from the datasetd)\n",
    "- Homogenity of variance( population varinance in different levels of each indepedent variable are equal)\n",
    "\n",
    "- samples are independent and random.\n",
    "\n",
    "## Types of ANOVA\n",
    "- 1. One ways ANOVA : one factor with alteast two levels which ore independent. e.g. Dose of medicience.\n",
    "\n",
    "- 2. Repeated Measure ANOVA : one factor levels are dependent. e.g. performs of running with respect to days.\n",
    "\n",
    "- 3. Factorical Anova : Two or more factor (each of which atleast two levels, levels can be independent and dependent)"
   ]
  },
  {
   "cell_type": "markdown",
   "id": "41df9cca",
   "metadata": {},
   "source": [
    "## Partition of Varioance in ANOVA\n",
    "\n",
    "### Hypothesis Testing in ANOVA\n",
    "`Null Hypothesis`: All means are equal.\n",
    "`Alternative Hypothesis` Atleast one of the means are equal.\n",
    "\n",
    "- ### `Test Statistics`\n",
    "- $$ F = \\frac{Variance between sample}{Variance within sanple}$$"
   ]
  },
  {
   "cell_type": "code",
   "execution_count": null,
   "id": "05accd49",
   "metadata": {},
   "outputs": [],
   "source": []
  },
  {
   "cell_type": "code",
   "execution_count": null,
   "id": "3f990d9f",
   "metadata": {},
   "outputs": [],
   "source": []
  },
  {
   "cell_type": "code",
   "execution_count": null,
   "id": "2879fadb",
   "metadata": {},
   "outputs": [],
   "source": []
  },
  {
   "cell_type": "code",
   "execution_count": null,
   "id": "a4ca9338",
   "metadata": {},
   "outputs": [],
   "source": []
  },
  {
   "cell_type": "code",
   "execution_count": null,
   "id": "778d1eab",
   "metadata": {},
   "outputs": [],
   "source": []
  },
  {
   "cell_type": "code",
   "execution_count": null,
   "id": "72b51df7",
   "metadata": {},
   "outputs": [],
   "source": []
  }
 ],
 "metadata": {
  "kernelspec": {
   "display_name": "Python 3 (ipykernel)",
   "language": "python",
   "name": "python3"
  },
  "language_info": {
   "codemirror_mode": {
    "name": "ipython",
    "version": 3
   },
   "file_extension": ".py",
   "mimetype": "text/x-python",
   "name": "python",
   "nbconvert_exporter": "python",
   "pygments_lexer": "ipython3",
   "version": "3.10.10"
  }
 },
 "nbformat": 4,
 "nbformat_minor": 5
}
