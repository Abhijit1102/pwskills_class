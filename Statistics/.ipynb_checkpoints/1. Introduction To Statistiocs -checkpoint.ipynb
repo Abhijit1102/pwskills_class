{
 "cells": [
  {
   "cell_type": "markdown",
   "id": "13208ea6",
   "metadata": {},
   "source": [
    "## Definition of Statistics\n",
    "- Statistics Is the Science of collecting, oganising and analysis the data."
   ]
  },
  {
   "cell_type": "markdown",
   "id": "ae7a44e6",
   "metadata": {},
   "source": [
    "## Data\n",
    "- \"Fact or pieces of information\"\n",
    "- e.g: Hieght of  student in the class"
   ]
  },
  {
   "cell_type": "markdown",
   "id": "e964e6e7",
   "metadata": {},
   "source": [
    "Collecting->Organizing-> analysing --> `Decession Analysis`\n",
    "- e.g. Contructing a ATM Machine in place."
   ]
  },
  {
   "cell_type": "markdown",
   "id": "8aa313cf",
   "metadata": {},
   "source": [
    "## Type of statistics\n",
    "- 1. Descriptive Statistics\n",
    "     - It consist of organising data and summarizing the data\n",
    "- 2. Inferential statistics\n",
    "     - It consist of using data which we have measure to `conclusion` based on sample make conclusion on population.\n"
   ]
  },
  {
   "cell_type": "markdown",
   "id": "942c0b7e",
   "metadata": {},
   "source": [
    "`Important concept`\n",
    "- Measure of central tendency: Mean, Median, Mode\n",
    "- Measure of Dispersion: Variance, Standard Deviation\n"
   ]
  },
  {
   "cell_type": "markdown",
   "id": "ae667111",
   "metadata": {},
   "source": [
    "`Inferential Statistics`\n",
    "- z-test\n",
    "- t-test\n",
    "- Hypothesis testing, P-value"
   ]
  },
  {
   "cell_type": "markdown",
   "id": "b3751624",
   "metadata": {},
   "source": [
    "e.g: Lets say there are 50 Student in class. We collected the hieght data: [175, 180,....]\n",
    "`Descriptive Question`\n",
    "- What is the average height of the student in the class.\n",
    "- What is most common height class.\n",
    "\n",
    "`Inferential Question`\n",
    "- Are the student in the class is similar with entire college.\n"
   ]
  },
  {
   "cell_type": "markdown",
   "id": "bca06dda",
   "metadata": {},
   "source": [
    "## Sample Data and Population Data\n",
    "**Its difficult to collect entire population data, so we colllect sample create conclusion of population on basis of sample data**\n",
    "- E.g : Exit poll"
   ]
  },
  {
   "cell_type": "markdown",
   "id": "e068c480",
   "metadata": {},
   "source": [
    "## Types of Data\n",
    "\n",
    "### Quantitative Data\n",
    "- Type of Quantative Data\n",
    "   - Descrite: Whole number having specific range e.g. No of children.\n",
    "   - Continuous: May have any value whole no. or decimal. height, temperature, speed.\n",
    "\n",
    "### Qualitative Data (Catagorical Data)\n",
    "- Type of Qualitative Data\n",
    "   - Nominal Data: e.g: Gender (Male, Female), Blood group.\n",
    "   - Ordinal Data: Important parameter Rank, e.g: (Good, Bad, Statisfactory). It can used w.r.t. customed problem statement. "
   ]
  },
  {
   "cell_type": "markdown",
   "id": "f21ce475",
   "metadata": {},
   "source": [
    "## Level of measurements \n",
    "### Scale of mesurement of Data\n",
    "- 1. Nominal Scale Data\n",
    "- 2. Ordinal Scale Data\n",
    "- 3. Interval Scale Data\n",
    "- 4. Ratio Scale Data"
   ]
  },
  {
   "cell_type": "markdown",
   "id": "dec8ddc7",
   "metadata": {},
   "source": [
    "### Nominal Scale Data\n",
    "- 1. Qualitative/Catagorical Variable:\n",
    "     - e.g Gender, Colour\n",
    "     - Order does not matter.\n",
    "     - We can extract count occrence of event.\n",
    "- 2. Ordinal Scale Data.\n",
    "     - Range amd Order matter\n",
    "     - Difference cannot be measued.\n",
    "     - e.g Qualification , we cannot measure Phd and Master.\n",
    "     \n",
    "- 3. Interval Scale Data:\n",
    "     -  Rank and orders Matter\n",
    "     -  Difference cannot be measure excluding ratio.\n",
    "     -  Does not have any zero starting value.\n",
    "     -  e.g. Temperature, 60:30 = 2:1 \n",
    "- 4. Ratio Scaled Data.\n",
    "     - Order and Rank matter\n",
    "     - Differences and ratio are measurable\n",
    "     - It has zero starting point.\n",
    "     - e.g: Marks."
   ]
  },
  {
   "cell_type": "markdown",
   "id": "e95ffffd",
   "metadata": {},
   "source": [
    "# Measure of central tendency\n",
    "- The purporse of central tendency is to meansure the data prent in the central ponits.\n",
    "   \n",
    "\n",
    "## Mean : \n",
    "   - Population Mean(N): denote it by \n",
    "     ($\\mu $): $\\sum_{i=1}^n \\frac{X_i}{N}$\n",
    "   - Sample Means(n):  denote it by \n",
    "     ($\\mu $): $\\sum_{i=1}^n \\frac{X_i}{n}$\n",
    "     \n",
    "## Median:\n",
    "   - the median is a measure of central tendency that represents the middle value in a dataset when it is arranged in ascending or descending order. It is the value that separates the dataset into two equal halves, with 50% of the data lying below the median and 50% lying above it.\n",
    "   \n",
    "## Why median is used instead of mean.\n",
    "The median is often used instead of the mean in certain situations because it is less sensitive to extreme values or outliers in the data.\n",
    "\n",
    "The mean is a measure of central tendency that is calculated by adding up all the values in a dataset and dividing by the number of values. It is sensitive to extreme values because it takes into account all values in the dataset, regardless of how far away they are from the other values. As a result, the mean can be skewed or biased by outliers in the data, which can lead to incorrect conclusions or decisions.\n",
    "\n",
    "The median, on the other hand, is the middle value in a dataset when the values are arranged in order. It is less sensitive to extreme values because it only takes into account the middle value(s) and ignores the values at the extremes. This makes it a more robust measure of central tendency that is useful when the data has outliers or when the distribution is skewed.\n",
    "\n",
    "## MODE\n",
    "The mode is a measure of central tendency that represents the most frequently occurring value in a dataset. In other words, the mode is the value that appears with the highest frequency or count in a set of data.\n",
    "\n",
    "## When mode is used?\n",
    "The mode is typically used instead of the mean and median when dealing with categorical or discrete data, where the values represent categories or distinct groups rather than numerical values. In such cases, the mean and median may not be meaningful or relevant, as there is no inherent ordering or relationship between the categories."
   ]
  },
  {
   "cell_type": "markdown",
   "id": "81b372bc",
   "metadata": {},
   "source": [
    "## Measure of Central Tendency"
   ]
  },
  {
   "cell_type": "code",
   "execution_count": 1,
   "id": "933a98e7",
   "metadata": {},
   "outputs": [],
   "source": [
    "import numpy as np"
   ]
  },
  {
   "cell_type": "code",
   "execution_count": 2,
   "id": "b7f47251",
   "metadata": {},
   "outputs": [
    {
     "name": "stdout",
     "output_type": "stream",
     "text": [
      "The average age : 24.5\n",
      "The average age : 24.5\n"
     ]
    }
   ],
   "source": [
    "age = [12,35,23,24,28,25]\n",
    "print(f\"The average age : {sum(age)/len(age)}\")\n",
    "print(f\"The average age : {np.mean(age)}\")"
   ]
  },
  {
   "cell_type": "code",
   "execution_count": 3,
   "id": "156f1921",
   "metadata": {},
   "outputs": [
    {
     "name": "stdout",
     "output_type": "stream",
     "text": [
      "The average age : 25.0\n",
      "The average age : 35.285714285714285\n"
     ]
    }
   ],
   "source": [
    "age1 = [12,35,23,24,28,25,100]\n",
    "print(f\"The average age : {np.median(age1)}\")\n",
    "print(f\"The average age : {np.mean(age1)}\")"
   ]
  },
  {
   "cell_type": "markdown",
   "id": "c55db343",
   "metadata": {},
   "source": [
    "**Note that you can replace the outlier as mean, median and mode.**"
   ]
  },
  {
   "cell_type": "code",
   "execution_count": 4,
   "id": "bd9263fe",
   "metadata": {},
   "outputs": [],
   "source": [
    "from scipy import stats"
   ]
  },
  {
   "cell_type": "code",
   "execution_count": 5,
   "id": "6ccccc0a",
   "metadata": {},
   "outputs": [],
   "source": [
    "import warnings\n",
    "warnings.filterwarnings('ignore')"
   ]
  },
  {
   "cell_type": "code",
   "execution_count": 6,
   "id": "755b8239",
   "metadata": {},
   "outputs": [
    {
     "data": {
      "text/plain": [
       "ModeResult(mode=array([12]), count=array([1]))"
      ]
     },
     "execution_count": 6,
     "metadata": {},
     "output_type": "execute_result"
    }
   ],
   "source": [
    "stats.mode(age1)"
   ]
  },
  {
   "cell_type": "markdown",
   "id": "6882b730",
   "metadata": {},
   "source": [
    "# Measure of Dispersion"
   ]
  },
  {
   "cell_type": "markdown",
   "id": "93ce35c4",
   "metadata": {},
   "source": [
    "## 1. Variance:\n",
    " - Variance talks about spread of data from mean position.\n",
    " - Population Variance: Its is denoted by $\\sigma^2 = \\sum_{i=1}^n \\frac{(x_i - \\mu )^2}{N}$ \n",
    " - Sample Variance: Its is denoted by $S^2 = \\sum_{i=1}^n \\frac{(x_i - \\bar{x} )^2}{n-1}$ \n",
    " - where, $x_i$ is data point\n",
    " - $\\mu$ is population mean\n",
    " - N is population Size\n",
    " - **Why does the sample variance have n-1 in the denominator?**\n",
    " - **The reasonwe use n-1 rather n is sample variance will be unbaised estimator of population variance. It is proved by Bayesian corection**\n",
    " \n",
    " - The sample variance is defined as the sum of the squared differences between each observation in a sample and the sample mean, divided by the degrees of freedom. The degrees of freedom is the number of observations in the sample minus one (n-1).\n",
    "\n",
    "- The reason why the sample variance has n-1 in the denominator instead of n is to account for the fact that the sample mean is used to estimate the population mean. The use of the sample mean introduces some variability or uncertainty into the calculation of the variance, because the sample mean is a random variable itself and may not be equal to the true population mean.\n",
    "\n",
    "- By dividing by n-1 instead of n, the sample variance is adjusted to correct for this additional variability introduced by using the sample mean as an estimate of the population mean. This adjustment results in an unbiased estimator of the population variance, meaning that the expected value of the sample variance is equal to the true population variance.\n",
    "\n",
    "- The use of n-1 in the denominator is based on the principle of Bessel's correction, which was developed by Friedrich Bessel in the early 19th century. Bessel's correction is used to correct for the bias that arises when estimating the population variance from a sample, and it is a commonly used practice in statistics.\n",
    "\n",
    "\n",
    "\n"
   ]
  },
  {
   "cell_type": "markdown",
   "id": "da5e4e8d",
   "metadata": {},
   "source": [
    "# Standard Deviation\n",
    "- Population Std is denoted by $\\sigma$ which is root of population variance.\n",
    "- Sample Std is denoted by S which is root of  sample variance.\n"
   ]
  },
  {
   "cell_type": "code",
   "execution_count": 7,
   "id": "ba49a9cc",
   "metadata": {},
   "outputs": [
    {
     "name": "stdout",
     "output_type": "stream",
     "text": [
      "[12, 35, 23, 24, 28, 25]\n",
      "[12, 35, 23, 24, 28, 25, 100]\n"
     ]
    }
   ],
   "source": [
    "print(age)\n",
    "print(age1)"
   ]
  },
  {
   "cell_type": "code",
   "execution_count": 10,
   "id": "efaaa8af",
   "metadata": {},
   "outputs": [
    {
     "name": "stdout",
     "output_type": "stream",
     "text": [
      "The variance of age : 46.916666666666664\n",
      "The variance of age1 : 738.2040816326532\n"
     ]
    }
   ],
   "source": [
    "print(f\"The variance of age : {np.var(age)}\")\n",
    "print(f\"The variance of age1 : {np.var(age1)}\")"
   ]
  },
  {
   "cell_type": "code",
   "execution_count": 11,
   "id": "a3b95ab4",
   "metadata": {},
   "outputs": [
    {
     "name": "stdout",
     "output_type": "stream",
     "text": [
      "The std of age : 6.849574196011505\n",
      "The std of age1 : 27.169911329127544\n"
     ]
    }
   ],
   "source": [
    "print(f\"The std of age : {np.std(age)}\")\n",
    "print(f\"The std of age1 : {np.std(age1)}\")"
   ]
  },
  {
   "cell_type": "code",
   "execution_count": 12,
   "id": "0699df16",
   "metadata": {},
   "outputs": [],
   "source": [
    "import pandas as pd"
   ]
  },
  {
   "cell_type": "code",
   "execution_count": 14,
   "id": "8a37f433",
   "metadata": {},
   "outputs": [
    {
     "data": {
      "text/html": [
       "<div>\n",
       "<style scoped>\n",
       "    .dataframe tbody tr th:only-of-type {\n",
       "        vertical-align: middle;\n",
       "    }\n",
       "\n",
       "    .dataframe tbody tr th {\n",
       "        vertical-align: top;\n",
       "    }\n",
       "\n",
       "    .dataframe thead th {\n",
       "        text-align: right;\n",
       "    }\n",
       "</style>\n",
       "<table border=\"1\" class=\"dataframe\">\n",
       "  <thead>\n",
       "    <tr style=\"text-align: right;\">\n",
       "      <th></th>\n",
       "      <th>A</th>\n",
       "      <th>B</th>\n",
       "      <th>C</th>\n",
       "    </tr>\n",
       "  </thead>\n",
       "  <tbody>\n",
       "    <tr>\n",
       "      <th>0</th>\n",
       "      <td>10</td>\n",
       "      <td>12</td>\n",
       "      <td>32</td>\n",
       "    </tr>\n",
       "    <tr>\n",
       "      <th>1</th>\n",
       "      <td>52</td>\n",
       "      <td>23</td>\n",
       "      <td>24</td>\n",
       "    </tr>\n",
       "    <tr>\n",
       "      <th>2</th>\n",
       "      <td>56</td>\n",
       "      <td>42</td>\n",
       "      <td>57</td>\n",
       "    </tr>\n",
       "  </tbody>\n",
       "</table>\n",
       "</div>"
      ],
      "text/plain": [
       "    A   B   C\n",
       "0  10  12  32\n",
       "1  52  23  24\n",
       "2  56  42  57"
      ]
     },
     "execution_count": 14,
     "metadata": {},
     "output_type": "execute_result"
    }
   ],
   "source": [
    "data = [[10,12,32],[52,23,24], [56,42,57]]\n",
    "df = pd.DataFrame(data,columns=[\"A\",\"B\",\"C\"])\n",
    "df"
   ]
  },
  {
   "cell_type": "code",
   "execution_count": 16,
   "id": "93b0585e",
   "metadata": {},
   "outputs": [
    {
     "data": {
      "text/plain": [
       "(A    649.333333\n",
       " B    230.333333\n",
       " C    296.333333\n",
       " dtype: float64,\n",
       " 0    148.000000\n",
       " 1    271.000000\n",
       " 2     70.333333\n",
       " dtype: float64)"
      ]
     },
     "execution_count": 16,
     "metadata": {},
     "output_type": "execute_result"
    }
   ],
   "source": [
    "df.var(), df.var(axis=1)"
   ]
  },
  {
   "cell_type": "code",
   "execution_count": null,
   "id": "f5ea7773",
   "metadata": {},
   "outputs": [],
   "source": []
  }
 ],
 "metadata": {
  "kernelspec": {
   "display_name": "Python 3 (ipykernel)",
   "language": "python",
   "name": "python3"
  },
  "language_info": {
   "codemirror_mode": {
    "name": "ipython",
    "version": 3
   },
   "file_extension": ".py",
   "mimetype": "text/x-python",
   "name": "python",
   "nbconvert_exporter": "python",
   "pygments_lexer": "ipython3",
   "version": "3.10.9"
  }
 },
 "nbformat": 4,
 "nbformat_minor": 5
}
