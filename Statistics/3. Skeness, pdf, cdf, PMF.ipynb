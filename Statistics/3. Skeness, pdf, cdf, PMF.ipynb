{
 "cells": [
  {
   "cell_type": "markdown",
   "id": "1c28cae9",
   "metadata": {},
   "source": [
    "### Skrewness\n",
    "\n",
    "- `Symmetrical distribution` (area in both sideis euqal), in symmtrical mean, median and mode all are the centre. And Q3 -Q2 = Q2 - Q1.\n",
    "\n",
    "- `Right skrewness/ positive skrew`: having all area occupied at right side . Q3-Q2 > Q2-Q1, mean > median > mode. (eg log normal distribution)\n",
    "\n",
    "- `left skrew / negative skrew`: havingh all point at the left. Q2-Q2< Q2-Q1. mean < median < mode.\n"
   ]
  },
  {
   "cell_type": "markdown",
   "id": "9af3033a",
   "metadata": {},
   "source": [
    "## Histogram\n",
    "It take about frequecy of the variable.(bins = buckets, here how many element in bucket $$(bucket calculation : (lowest element - highestelement)\n",
    "/10) $$ .Basically you are having count in Y-axis, and along axis we have buckets.\n",
    "\n",
    "- By smoothing this histogram we get Probability Distribution function. Smoothing is done by kernel Density function. The curve formed by smothning is called bell curve. it bell curve is symetrical about the cente we called is Normal or Gausian Distribution. If curve is right skrew the its called log normal.\n"
   ]
  },
  {
   "cell_type": "markdown",
   "id": "6c0297a8",
   "metadata": {},
   "source": [
    "## Probability Distribution Function / Density Function"
   ]
  },
  {
   "cell_type": "markdown",
   "id": "b414f16d",
   "metadata": {},
   "source": [
    "## Proababity Density Function:\n",
    "-  Distribution of Contineous Data.\n",
    "    - Hieght of Students : Pr(X <=155) = Area under the curve.\n",
    " \n",
    "- Probabity Mass Function: Distribution of discrete random Variable.\n",
    "     - e.g. Rolling a Dice {1,2,3,4,5,6}: p(i) = 1/6 for all i ={1,2,3,4,5,6},  \n",
    "     - p(X<=4) = p(X=1) + p(X=2) + p(X=3) + p(X=4)\n",
    "     - 1/6+1/6+1/6+1/6 = 2/3\n",
    "     \n",
    "- Cummmulative Ditribution Function (C.D.F): Adding every area with respect to particular line.\n",
    "\n",
    "     \n",
    "     \n",
    "     \n",
    "     \n",
    "     "
   ]
  },
  {
   "cell_type": "markdown",
   "id": "a08871cc",
   "metadata": {},
   "source": [
    "### Type of Probability Distribution:\n",
    "- Normal or Gaussian  DIstribution(pdf): It belong to dendity function looks like bell curve.\n",
    "- Bernouli Distribution (pdf): Its outcome is binary so, its discrete.\n",
    "- Uniform Distribution  :\n",
    "- log Normal Distribution (pdf):\n",
    "- Poission Distribution (pmf):\n",
    "- power low Distribution (pdf): 80-20% Rule\n",
    "- Binomial Distribution (pmf):"
   ]
  },
  {
   "cell_type": "markdown",
   "id": "1ce3bc63",
   "metadata": {},
   "source": [
    "### PMF, CDF, PDF"
   ]
  },
  {
   "cell_type": "markdown",
   "id": "a7e1de8a",
   "metadata": {},
   "source": [
    "## 1. PMF\n",
    "- Discrete Random Variable\n",
    "\n",
    "Example: Rolling a Dice {1,2,3,4,5,6}\n",
    "\n",
    "- PMF : 1 -> 1 -> 1 -> 1 -> 1 -> 1 = 6\n",
    "- CDF : 1/6->2/6->3/6->4/6->5/6->6/6\n",
    "- p(X<=4) = 4/6"
   ]
  },
  {
   "cell_type": "code",
   "execution_count": null,
   "id": "7fabb76d",
   "metadata": {},
   "outputs": [],
   "source": []
  },
  {
   "cell_type": "code",
   "execution_count": null,
   "id": "12cbc5a5",
   "metadata": {},
   "outputs": [],
   "source": []
  },
  {
   "cell_type": "code",
   "execution_count": null,
   "id": "44040b84",
   "metadata": {},
   "outputs": [],
   "source": []
  },
  {
   "cell_type": "code",
   "execution_count": null,
   "id": "a1f0eec1",
   "metadata": {},
   "outputs": [],
   "source": []
  },
  {
   "cell_type": "code",
   "execution_count": null,
   "id": "6225f411",
   "metadata": {},
   "outputs": [],
   "source": []
  },
  {
   "cell_type": "code",
   "execution_count": null,
   "id": "587dd516",
   "metadata": {},
   "outputs": [],
   "source": []
  },
  {
   "cell_type": "code",
   "execution_count": null,
   "id": "063c7beb",
   "metadata": {},
   "outputs": [],
   "source": []
  },
  {
   "cell_type": "code",
   "execution_count": null,
   "id": "58e4d521",
   "metadata": {},
   "outputs": [],
   "source": []
  },
  {
   "cell_type": "code",
   "execution_count": null,
   "id": "1a95e6c5",
   "metadata": {},
   "outputs": [],
   "source": []
  },
  {
   "cell_type": "code",
   "execution_count": null,
   "id": "73abffbe",
   "metadata": {},
   "outputs": [],
   "source": []
  },
  {
   "cell_type": "code",
   "execution_count": null,
   "id": "0069fb9e",
   "metadata": {},
   "outputs": [],
   "source": []
  },
  {
   "cell_type": "code",
   "execution_count": null,
   "id": "70240905",
   "metadata": {},
   "outputs": [],
   "source": []
  },
  {
   "cell_type": "code",
   "execution_count": null,
   "id": "a68dca9d",
   "metadata": {},
   "outputs": [],
   "source": []
  },
  {
   "cell_type": "code",
   "execution_count": null,
   "id": "004c3ab8",
   "metadata": {},
   "outputs": [],
   "source": []
  }
 ],
 "metadata": {
  "kernelspec": {
   "display_name": "Python 3 (ipykernel)",
   "language": "python",
   "name": "python3"
  },
  "language_info": {
   "codemirror_mode": {
    "name": "ipython",
    "version": 3
   },
   "file_extension": ".py",
   "mimetype": "text/x-python",
   "name": "python",
   "nbconvert_exporter": "python",
   "pygments_lexer": "ipython3",
   "version": "3.10.9"
  }
 },
 "nbformat": 4,
 "nbformat_minor": 5
}
