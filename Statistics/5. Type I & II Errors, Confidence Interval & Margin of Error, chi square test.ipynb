{
 "cells": [
  {
   "cell_type": "markdown",
   "id": "e76f569e",
   "metadata": {},
   "source": [
    "##  Type I & II Errors\n",
    "\n",
    "- `Reality` : Null hypothesis is True or Null Hypothesis is False.\n",
    "- `Decision` : Null hypotheis is  True Or Null Hypotheis is Fasle.\n",
    "\n",
    "`Outcome`\n",
    "       \n",
    "       - 1.  We reject the Null Hypothesis when is reality it is false -> Good.\n",
    "       \n",
    "       - 2. We reject the Null Hypothesis when is reality it is True -> Type 1 error.\n",
    "       \n",
    "       - 3. We reject the Null Hypothesis when is reality it is False -> Type 2 error.\n",
    "       \n",
    "       -4. We return the Null Hypothesis when is reality it is false -> Good"
   ]
  },
  {
   "cell_type": "markdown",
   "id": "c4bbc869",
   "metadata": {},
   "source": [
    "## Confidence Error & Marginal error\n",
    "\n",
    "`Point Estimate`: If $\\bar x$ = 2.5 and $\\mu$ = 3 by pint estimate, which is false. In order to overcome this issue we will be using  `Confidence Interval`\n",
    "\n",
    "`Confidence Interval` : Point Estimate +- Margin of Error\n",
    "         $\\bar x +- Z_{\\frac{\\alpha}{2}}{\\frac{\\sigma}{\\sqrt n}}$\n",
    "         "
   ]
  },
  {
   "cell_type": "markdown",
   "id": "9d5a7a0c",
   "metadata": {},
   "source": [
    "## Bayes Statistics (Bayes Theorem)\n",
    "Bayesioan Statistics in a n apprpoach to data analysis and parameter estimation based.\n",
    "\n",
    "`Independent Events & Dependent Event`  \n",
    "\n",
    "## Bayes Theorem\n",
    "\n",
    "$$Pr\\frac{A}{B}= \\frac{Pr{(A)} Pr\\frac{B}{A}}{Pr(B)}$$"
   ]
  },
  {
   "cell_type": "markdown",
   "id": "d5b62933",
   "metadata": {},
   "source": [
    "# In case Of Datasets\n",
    "If x1 , x2, x3 are indepedent feature and y is dependent.\n",
    "\n",
    "Pr(y/x1,x2,x3) =  pr(y)pr(x1,x2,x3/y)/pr(x1,x2,x3)"
   ]
  },
  {
   "cell_type": "markdown",
   "id": "93679af6",
   "metadata": {},
   "source": [
    "## CHI SQUARE Test\n",
    "\n",
    "The chi square test for Goodness of fit test claims about populatopn proportion.\n",
    "It is a non parametric testn that performed on Catagorical [Ordinal and nomial]data.\n",
    "- `Godness of fit means` : How good your theory is fit. Here we have to part `Theory Catagory distribution` and `Object Catagorical Theory`.\n",
    "\n",
    "\n",
    "## $$\\chi^2 = \\sum \\frac{(O_i - E_i)^2}{E_i}$$\n",
    "\n",
    "- ## $\\chi^2 = Chi squared $\n",
    "- ## $ O_i = Observed Value $\n",
    "- ## $ E_i = Expected value $"
   ]
  },
  {
   "cell_type": "markdown",
   "id": "6caca618",
   "metadata": {},
   "source": [
    "## Chi square in python\n"
   ]
  },
  {
   "cell_type": "code",
   "execution_count": 1,
   "id": "6a686e5a",
   "metadata": {},
   "outputs": [],
   "source": [
    "import scipy.stats as stat\n",
    "import numpy as np"
   ]
  },
  {
   "cell_type": "code",
   "execution_count": 2,
   "id": "bdea6714",
   "metadata": {},
   "outputs": [],
   "source": [
    "# no of hour student study daily in a weekly basis\n",
    "expected_data = [8,6,7,9,6,9,7]\n",
    "observed_data = [7,8,6,9,9,6,7]"
   ]
  },
  {
   "cell_type": "code",
   "execution_count": 4,
   "id": "5aaaf0b8",
   "metadata": {},
   "outputs": [
    {
     "data": {
      "text/plain": [
       "(52, 52)"
      ]
     },
     "execution_count": 4,
     "metadata": {},
     "output_type": "execute_result"
    }
   ],
   "source": [
    "sum(expected_data), sum(observed_data)"
   ]
  },
  {
   "cell_type": "code",
   "execution_count": 6,
   "id": "102fd0fd",
   "metadata": {},
   "outputs": [],
   "source": [
    "## chi square goodness of fit\n",
    "chisquare_test_statistics, p_value = stat.chisquare(observed_data,expected_data)"
   ]
  },
  {
   "cell_type": "code",
   "execution_count": 7,
   "id": "1f78bf66",
   "metadata": {},
   "outputs": [
    {
     "name": "stdout",
     "output_type": "stream",
     "text": [
      "3.4345238095238093\n",
      "0.7526596580922865\n"
     ]
    },
    {
     "data": {
      "text/plain": [
       "(None, None)"
      ]
     },
     "execution_count": 7,
     "metadata": {},
     "output_type": "execute_result"
    }
   ],
   "source": [
    "print(chisquare_test_statistics), print(p_value)"
   ]
  },
  {
   "cell_type": "code",
   "execution_count": 10,
   "id": "9279a8c3",
   "metadata": {},
   "outputs": [
    {
     "name": "stdout",
     "output_type": "stream",
     "text": [
      "3.54846265920102\n"
     ]
    }
   ],
   "source": [
    "# critical value\n",
    "significance =0.05\n",
    "dof = len(observed_data) -1\n",
    "critical_value = stat.chi.ppf(1-significance,dof)\n",
    "print(critical_value)"
   ]
  },
  {
   "cell_type": "code",
   "execution_count": null,
   "id": "f8e48c16",
   "metadata": {},
   "outputs": [],
   "source": []
  },
  {
   "cell_type": "code",
   "execution_count": null,
   "id": "d6fc386c",
   "metadata": {},
   "outputs": [],
   "source": []
  },
  {
   "cell_type": "code",
   "execution_count": null,
   "id": "c4d4c3c8",
   "metadata": {},
   "outputs": [],
   "source": []
  },
  {
   "cell_type": "code",
   "execution_count": null,
   "id": "a18b2b34",
   "metadata": {},
   "outputs": [],
   "source": []
  }
 ],
 "metadata": {
  "kernelspec": {
   "display_name": "Python 3 (ipykernel)",
   "language": "python",
   "name": "python3"
  },
  "language_info": {
   "codemirror_mode": {
    "name": "ipython",
    "version": 3
   },
   "file_extension": ".py",
   "mimetype": "text/x-python",
   "name": "python",
   "nbconvert_exporter": "python",
   "pygments_lexer": "ipython3",
   "version": "3.10.9"
  }
 },
 "nbformat": 4,
 "nbformat_minor": 5
}
