{
 "cells": [
  {
   "cell_type": "markdown",
   "id": "81511328",
   "metadata": {},
   "source": [
    "ARIMA (AutoRegressive Integrated Moving Average) is a statistical model used for analyzing time series data and making predictions about future trends. It combines autoregressive features, moving averages, and differencing to capture the underlying patterns and characteristics of the data. ARIMA models are commonly employed in various fields, including finance, economics, and forecasting.\n",
    "\n",
    "The three main components of an ARIMA model are:\n",
    "\n",
    "1. `Autoregression (AR)`: The autoregressive component predicts future values based on past values. It assumes that the current value of a series is linearly dependent on its previous values. The \"p\" parameter in ARIMA(p, d, q) represents the order of autoregressive terms, indicating the number of lag observations considered for prediction.\n",
    "\n",
    "2. `Differencing (I)`: The differencing component is used to transform non-stationary data into stationary data. Stationarity implies that the statistical properties of the series, such as mean and variance, remain constant over time. Differencing involves taking the difference between consecutive observations to remove trends or seasonality. The \"d\" parameter represents the degree of differencing applied.\n",
    "\n",
    "3. `Moving Average (MA)`: The moving average component smooths out the random fluctuations in the data and helps capture the short-term trends. It models the dependency between the current value and a linear combination of past forecast errors. The \"q\" parameter represents the order of the moving average terms.\n",
    "\n",
    "The selection of appropriate values for p, d, and q depends on the characteristics of the time series and is typically determined using techniques such as autocorrelation and partial autocorrelation analysis, examining extended autocorrelation charts, and utilizing information criteria like AIC (Akaike Information Criterion) and BIC (Bayesian Information Criterion).\n",
    "\n",
    "ARIMA models have both advantages and limitations. They are useful for short-term forecasting and can handle non-stationary data. Additionally, they can incorporate trends, cycles, and seasonality in the data. However, ARIMA models may have difficulties predicting turning points, and their long-term forecasting abilities may be limited. They also involve subjective parameter selection and can be computationally complex.\n",
    "\n",
    "To build an ARIMA model, the process typically involves downloading relevant time series data, identifying trends, determining the order of differencing, autoregression, and moving average components, and selecting the appropriate model. Software packages like Python's statsmodels, R, MATLAB, SAS, and others offer implementations of ARIMA models for practical use."
   ]
  },
  {
   "cell_type": "markdown",
   "id": "ad32deeb",
   "metadata": {},
   "source": [
    "## SARIMA"
   ]
  },
  {
   "cell_type": "markdown",
   "id": "2ba428a5",
   "metadata": {},
   "source": [
    "SARIMA (Seasonal Autoregressive Integrated Moving Average) is an extension of the ARIMA model that explicitly incorporates the seasonal component of time series data. While ARIMA models are effective for forecasting univariate time series data with trends, they do not handle seasonal patterns well. SARIMA addresses this limitation by introducing additional hyperparameters to model the seasonal component.\n",
    "\n",
    "The key features of SARIMA are as follows:\n",
    "\n",
    "`Autoregressive (AR) Component`: Similar to ARIMA, SARIMA includes an autoregressive component that models the linear relationship between the current observation and past observations at specific lags.\n",
    "\n",
    "`Moving Average (MA) Component`: SARIMA incorporates a moving average component to capture the influence of past forecast errors on the current observation.\n",
    "\n",
    "`Integration (I) Component`: The integration component involves differencing the time series data to make it stationary, removing trends and seasonality. This is necessary to ensure the model's validity.\n",
    "\n",
    "`Seasonal Components`: SARIMA explicitly models the seasonal patterns in the data. It introduces additional hyperparameters for the autoregressive, differencing, and moving average components specifically designed for the seasonal component.\n",
    "\n",
    "To specify a SARIMA model, the hyperparameters are denoted as SARIMA(p, d, q)(P, D, Q, m), where (p, d, q) represents the non-seasonal components (AR, I, MA), and (P, D, Q, m) represents the seasonal components (Seasonal AR, Seasonal I, Seasonal MA, and the length of the seasonal period).\n",
    "\n",
    "The selection of hyperparameters for SARIMA models is typically done through analyzing the autocorrelation and partial autocorrelation functions of the time series, similar to ARIMA models. Model selection criteria such as AIC and BIC can also guide the selection process.\n",
    "\n",
    "Implementations of SARIMA models can be found in various libraries and programming languages, such as Python's statsmodels library, R, and others.\n",
    "\n",
    "SARIMA models are useful for forecasting time series data with both trends and seasonal patterns. By explicitly considering the seasonal component, SARIMA can provide more accurate forecasts compared to ARIMA models in cases where seasonality plays a significant role."
   ]
  },
  {
   "cell_type": "code",
   "execution_count": null,
   "id": "c59661d0",
   "metadata": {},
   "outputs": [],
   "source": []
  },
  {
   "cell_type": "code",
   "execution_count": null,
   "id": "18b2c336",
   "metadata": {},
   "outputs": [],
   "source": []
  },
  {
   "cell_type": "code",
   "execution_count": null,
   "id": "f04c7d98",
   "metadata": {},
   "outputs": [],
   "source": []
  },
  {
   "cell_type": "code",
   "execution_count": null,
   "id": "0a2cf90b",
   "metadata": {},
   "outputs": [],
   "source": []
  },
  {
   "cell_type": "code",
   "execution_count": null,
   "id": "145f71e1",
   "metadata": {},
   "outputs": [],
   "source": []
  },
  {
   "cell_type": "code",
   "execution_count": null,
   "id": "7406743a",
   "metadata": {},
   "outputs": [],
   "source": []
  },
  {
   "cell_type": "code",
   "execution_count": null,
   "id": "ae4bef59",
   "metadata": {},
   "outputs": [],
   "source": []
  }
 ],
 "metadata": {
  "kernelspec": {
   "display_name": "Python 3 (ipykernel)",
   "language": "python",
   "name": "python3"
  },
  "language_info": {
   "codemirror_mode": {
    "name": "ipython",
    "version": 3
   },
   "file_extension": ".py",
   "mimetype": "text/x-python",
   "name": "python",
   "nbconvert_exporter": "python",
   "pygments_lexer": "ipython3",
   "version": "3.10.9"
  }
 },
 "nbformat": 4,
 "nbformat_minor": 5
}
