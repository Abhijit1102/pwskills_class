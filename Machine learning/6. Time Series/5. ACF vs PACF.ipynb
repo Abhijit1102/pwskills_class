{
 "cells": [
  {
   "cell_type": "markdown",
   "id": "ec148924",
   "metadata": {},
   "source": [
    "# ACF vs PACF"
   ]
  },
  {
   "cell_type": "markdown",
   "id": "74c4cf10",
   "metadata": {},
   "source": [
    "`ACF` stands for Autocorrelation Function, while PACF stands for Partial Autocorrelation Function. These are two commonly used statistical tools in time series analysis and forecasting.\n",
    "\n",
    "- 1. `Autocorrelation Function (ACF)`:The Autocorrelation Function measures the correlation between a time series and its lagged values. It calculates the correlation coefficient at various lags to determine the presence of any patterns or dependencies in the data. ACF helps in identifying the relationship between the current observation and past observations at different time lags.\n",
    "\n",
    "The ACF plot displays the correlation coefficients on the y-axis and the lags on the x-axis. The correlation coefficient at lag zero is always 1 since it represents the correlation of the series with itself. The ACF plot helps in understanding the overall autocorrelation structure of the time series and can be used to identify the order of the Moving Average (MA) component in an ARIMA model.\n",
    "\n",
    "- `Partial Autocorrelation Function (PACF)`: The Partial Autocorrelation Function calculates the correlation between a time series and its lagged values while controlling for the intermediate lags. In other words, it measures the correlation between two variables after removing the contributions of the other variables in between. PACF helps in identifying the direct relationship between the current observation and its lagged values, excluding the influence of the intermediate lags.\n",
    "\n",
    "The `PACF` plot shows the partial correlation coefficients on the y-axis and the lags on the x-axis. The partial correlation at lag zero is always 1. PACF can help in determining the order of the Autoregressive (AR) component in an ARIMA model.\n",
    "\n",
    "The `ACF` and `PACF` plots are commonly used to identify the appropriate order of ARIMA models. The patterns observed in these plots can provide insights into the nature of the time series and guide the selection of lagged variables for forecasting purposes."
   ]
  },
  {
   "cell_type": "code",
   "execution_count": null,
   "id": "8be508a7",
   "metadata": {},
   "outputs": [],
   "source": []
  },
  {
   "cell_type": "code",
   "execution_count": null,
   "id": "c734cdb3",
   "metadata": {},
   "outputs": [],
   "source": []
  },
  {
   "cell_type": "code",
   "execution_count": null,
   "id": "567392a5",
   "metadata": {},
   "outputs": [],
   "source": []
  },
  {
   "cell_type": "code",
   "execution_count": null,
   "id": "429f7b5d",
   "metadata": {},
   "outputs": [],
   "source": []
  },
  {
   "cell_type": "code",
   "execution_count": null,
   "id": "39277f3a",
   "metadata": {},
   "outputs": [],
   "source": []
  },
  {
   "cell_type": "code",
   "execution_count": null,
   "id": "11437a44",
   "metadata": {},
   "outputs": [],
   "source": []
  },
  {
   "cell_type": "code",
   "execution_count": null,
   "id": "f51b3ca1",
   "metadata": {},
   "outputs": [],
   "source": []
  }
 ],
 "metadata": {
  "kernelspec": {
   "display_name": "Python 3 (ipykernel)",
   "language": "python",
   "name": "python3"
  },
  "language_info": {
   "codemirror_mode": {
    "name": "ipython",
    "version": 3
   },
   "file_extension": ".py",
   "mimetype": "text/x-python",
   "name": "python",
   "nbconvert_exporter": "python",
   "pygments_lexer": "ipython3",
   "version": "3.10.9"
  }
 },
 "nbformat": 4,
 "nbformat_minor": 5
}
