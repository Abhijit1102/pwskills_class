{
 "cells": [
  {
   "cell_type": "markdown",
   "id": "06860c46",
   "metadata": {},
   "source": [
    "# Ridge Rregression (L2 Regularization)\n",
    "Let best fit line is given by $h_\\theta(x) = \\theta_0 + \\theta_1 x$\n",
    "- Cost function = $\\frac{1}{n}\\sum_1^n(y_i - h_\\theta(x)_i)^2$\n",
    "\n",
    "\n",
    "In order to overcome this we used Ridge function\n",
    "- Cost function = $\\frac{1}{n}\\sum_1^n(y_i - h_\\theta(x)_i)^2 + \\lambda\\sum_1^n(slope)^2$\n",
    "    - $\\lambda$ = hyperparameter\n",
    "\n",
    "when $\\lambda$ increase , slope decreases this is called penalizing the cost function.\n"
   ]
  },
  {
   "cell_type": "markdown",
   "id": "b4f17b37",
   "metadata": {},
   "source": [
    "##  Rigde regression in Simple Linear Regression\n",
    "Let best fit line is given by $h_\\theta(x) = \\theta_0 + \\theta_1 x$\n",
    "- Cost function = $\\frac{1}{n}\\sum_1^n(y_i - h_\\theta(x)_i)^2 + \\lambda[\\theta_i]^2$ \n",
    "\n",
    "\n",
    "##  Rigde regression in Multiple Linear Regression\n",
    "Let best fit line is given by $h_\\theta(x) = \\theta_0 + \\theta_1 x_1 + \\theta_2 x_2 + \\theta_3 x_3$\n",
    "- Cost function = $\\frac{1}{n}\\sum_1^n(y_i - h_\\theta(x)_i)^2 + \\lambda[\\theta_i]^2$ \n",
    "\n",
    "**Ridge Regression is only used in Overfiting condition**"
   ]
  },
  {
   "cell_type": "markdown",
   "id": "aa9a5db3",
   "metadata": {},
   "source": [
    "# Lasso Regression\n",
    "\n",
    "- Cost function = $\\frac{1}{n}\\sum_1^n(y_i - h_\\theta(x)_i)^2 + \\lambda\\sum_1^n|slope|$ "
   ]
  },
  {
   "cell_type": "markdown",
   "id": "64ddfe4e",
   "metadata": {},
   "source": [
    "# Elastic Net Regression\n",
    "It is combination of Ridge and Lasso\n",
    "\n",
    "- Cost function = $\\frac{1}{n}\\sum_1^n(y_i - h_\\theta(x)_i)^2 + \\lambda_1\\sum_1^n[slope]^2 + \\lambda_2\\sum_1^n|slope|$"
   ]
  },
  {
   "cell_type": "markdown",
   "id": "4d4b2c51",
   "metadata": {},
   "source": [
    "# Practical"
   ]
  },
  {
   "cell_type": "markdown",
   "id": "4e069d3e",
   "metadata": {},
   "source": [
    "# Ridge"
   ]
  },
  {
   "cell_type": "code",
   "execution_count": null,
   "id": "6cf9434e",
   "metadata": {},
   "outputs": [],
   "source": [
    "from sklearn.linear_model import Ridge\n",
    "from sklearn.metrics impoet mean_absolute_error, r2_score\n",
    "ridge = Ridge()\n",
    "ridge.fit(X_train_scaled, y_train)\n",
    "y_pred = ridge.predict(x_test_scaled)\n",
    "mae=mean_absolute_error(y_test, y_pred)\n",
    "score = r2_score(y_test,y_pred)\n",
    "print(\"Mean Absolue Erros\", mae)\n",
    "print(\"R2 Score\", score)\n",
    "plt.scatter(y_test,y_pred)"
   ]
  },
  {
   "cell_type": "markdown",
   "id": "501184a3",
   "metadata": {},
   "source": [
    "# Ridge Cross Validation"
   ]
  },
  {
   "cell_type": "code",
   "execution_count": null,
   "id": "701692d3",
   "metadata": {},
   "outputs": [],
   "source": [
    "from sklearn.linear_model import RidgeCV\n",
    "from sklearn.metrics impoet mean_absolute_error, r2_score\n",
    "ridge = RidgeCV(cv=5)\n",
    "ridge.fit(X_train_scaled, y_train)\n",
    "y_pred = ridge.predict(x_test_scaled)\n",
    "mae=mean_absolute_error(y_test, y_pred)\n",
    "score = r2_score(y_test,y_pred)\n",
    "print(\"Mean Absolue Erros\", mae)\n",
    "print(\"R2 Score\", score)\n",
    "plt.scatter(y_test,y_pred)"
   ]
  },
  {
   "cell_type": "markdown",
   "id": "50c97cfe",
   "metadata": {},
   "source": [
    "# Elastic Net  Regression"
   ]
  },
  {
   "cell_type": "code",
   "execution_count": null,
   "id": "f4cd150c",
   "metadata": {},
   "outputs": [],
   "source": [
    "from sklearn.linear_model import ElasticNet\n",
    "from sklearn.metrics impoet mean_absolute_error, r2_score\n",
    "elastic = ElasticNet()\n",
    "elastic.fit(X_train_scaled, y_train)\n",
    "y_pred = elastic.predict(x_test_scaled)\n",
    "mae=mean_absolute_error(y_test, y_pred)\n",
    "score = r2_score(y_test,y_pred)\n",
    "print(\"Mean Absolue Erros\", mae)\n",
    "print(\"R2 Score\", score)\n",
    "plt.scatter(y_test,y_pred)"
   ]
  },
  {
   "cell_type": "code",
   "execution_count": null,
   "id": "b005d508",
   "metadata": {},
   "outputs": [],
   "source": []
  },
  {
   "cell_type": "code",
   "execution_count": null,
   "id": "37a1a305",
   "metadata": {},
   "outputs": [],
   "source": []
  },
  {
   "cell_type": "code",
   "execution_count": null,
   "id": "6201fd3d",
   "metadata": {},
   "outputs": [],
   "source": []
  },
  {
   "cell_type": "code",
   "execution_count": null,
   "id": "7b48b577",
   "metadata": {},
   "outputs": [],
   "source": []
  }
 ],
 "metadata": {
  "kernelspec": {
   "display_name": "Python 3 (ipykernel)",
   "language": "python",
   "name": "python3"
  },
  "language_info": {
   "codemirror_mode": {
    "name": "ipython",
    "version": 3
   },
   "file_extension": ".py",
   "mimetype": "text/x-python",
   "name": "python",
   "nbconvert_exporter": "python",
   "pygments_lexer": "ipython3",
   "version": "3.10.9"
  }
 },
 "nbformat": 4,
 "nbformat_minor": 5
}
