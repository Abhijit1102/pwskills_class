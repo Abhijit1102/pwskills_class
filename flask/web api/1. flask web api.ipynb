{
 "cells": [
  {
   "cell_type": "markdown",
   "id": "84e11eee",
   "metadata": {},
   "source": [
    "#### Web api\n",
    "\n",
    "A web API (Application Programming Interface) is a type of interface that allows applications to communicate with each other over the internet. It enables the exchange of data and functionality between different systems and applications, regardless of the underlying programming language or platform.\n",
    "\n",
    "Web APIs are typically built using web technologies such as HTTP, JSON, XML, and REST (Representational State Transfer) and allow developers to access and manipulate data from web services and applications.\n",
    "\n",
    "Web APIs can be used for a variety of purposes, including integrating applications, building mashups, automating tasks, and accessing data from third-party services. They are widely used in modern software development and are a fundamental component of web-based architectures."
   ]
  },
  {
   "cell_type": "markdown",
   "id": "2881a779",
   "metadata": {},
   "source": [
    "## Difference between Api and web api"
   ]
  },
  {
   "cell_type": "markdown",
   "id": "bb55ab11",
   "metadata": {},
   "source": [
    "Application Programming Interface, is a set of programming instructions that allows software to communicate with other software. It is essentially a set of protocols, routines, and tools for building software applications.\n",
    "\n",
    "On the other hand, a web API is an API that is accessed via the HTTP protocol and is typically used for web-based applications. It provides a way for different applications to interact with each other through a network, and can be used to integrate different software systems.\n",
    "\n",
    "So while an API can be used for any type of software application, a web API is specifically designed for use in web-based applications that use HTTP to transfer data.\n",
    "\n",
    "- TCP\n",
    "- SMTTP\n",
    "- HTTP \n"
   ]
  },
  {
   "cell_type": "markdown",
   "id": "c064aecc",
   "metadata": {},
   "source": [
    "## Rest and Soap Architecture\n",
    "REST (Representational State Transfer) and SOAP (Simple Object Access Protocol) are two different architectural styles used for developing web services.\n",
    "\n",
    "REST is a simpler(sinplicity, scalabilty, flexiability) and more lightweight architecture compared to SOAP. It relies on the HTTP protocol to exchange data between client and server, and uses simple CRUD (Create, Read, Update, Delete) operations to manipulate resources. RESTful web services are usually stateless, meaning that the server does not store any session data between requests from the client.\n",
    "\n",
    "**Rest has security issue**\n",
    "\n",
    "On the other hand, SOAP is a more complex architecture that uses XML-based messages to exchange data between client and server. It relies on a set of standards, such as WSDL (Web Services Description Language) and SOAP headers, to define the message structure and how it should be processed by the client and server. SOAP-based web services can be stateful, meaning that the server can store session data between requests from the client."
   ]
  },
  {
   "cell_type": "markdown",
   "id": "166936e8",
   "metadata": {},
   "source": [
    "##  Restful Service\n",
    "A RESTful (Representational State Transfer) service is a software architecture design pattern for creating web services. It is an approach to building distributed systems based on the HTTP protocol, which allows clients to communicate with servers through a set of predefined operations.\n",
    "\n",
    "In a RESTful service, the server provides a set of resources, which can be accessed and manipulated by clients through a uniform and predefined set of operations, typically the HTTP methods GET, POST, PUT, and DELETE. These operations correspond to the basic CRUD (Create, Read, Update, Delete) operations used to manipulate data in a database.\n",
    "\n",
    "A RESTful service typically uses a set of standardized data formats, such as XML, JSON, or YAML, to represent resources and communicate with clients. It also provides a set of URIs (Uniform Resource Identifiers) to identify and locate resources on the server.\n",
    "\n",
    "One of the main advantages of a RESTful service is its simplicity and flexibility. It is easy to understand and implement, and can be used with a wide range of programming languages and platforms. It also allows for loose coupling between clients and servers, which makes it easier to evolve and maintain the system over time."
   ]
  },
  {
   "cell_type": "markdown",
   "id": "23ec369a",
   "metadata": {},
   "source": [
    "`RESTful` services, also known as `RESTful` APIs, are wed services that follow the REST architectural style. REST stands for Representational State Tranmsfer, whicg is set of prinicple for building\n",
    "web service that use HTTP(HyperText  Transfer Protocal) as the communicational protocal.\n",
    "\n",
    "RESTful services are based on the following principle:\n",
    "\n",
    "Client-server Architecture: The client  and service are separated, allowing them to evolve independently.\n",
    "\n",
    "Cacheable: Responses from the server can be caching to improve performance.\n",
    "\n",
    "Uiform inferance: RESTful services inferences consisting of resources, HTTP verbs(GET,POST, PUT, DELETE)  and all hypermedia links.\n",
    "\n",
    "Layered System: RESful services can be compmosed of multiple layers, allowing scalability, fexiability."
   ]
  },
  {
   "cell_type": "code",
   "execution_count": null,
   "id": "41ee1b25",
   "metadata": {},
   "outputs": [],
   "source": []
  },
  {
   "cell_type": "code",
   "execution_count": null,
   "id": "0d6d22d3",
   "metadata": {},
   "outputs": [],
   "source": []
  }
 ],
 "metadata": {
  "kernelspec": {
   "display_name": "Python 3 (ipykernel)",
   "language": "python",
   "name": "python3"
  },
  "language_info": {
   "codemirror_mode": {
    "name": "ipython",
    "version": 3
   },
   "file_extension": ".py",
   "mimetype": "text/x-python",
   "name": "python",
   "nbconvert_exporter": "python",
   "pygments_lexer": "ipython3",
   "version": "3.10.9"
  }
 },
 "nbformat": 4,
 "nbformat_minor": 5
}
